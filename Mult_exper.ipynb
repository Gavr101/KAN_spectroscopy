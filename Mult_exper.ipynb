{
 "cells": [
  {
   "cell_type": "code",
   "execution_count": 1,
   "metadata": {},
   "outputs": [],
   "source": [
    "import os\n",
    "import sys\n",
    "import numpy as np\n",
    "import pandas as pd\n",
    "from copy import deepcopy\n",
    "from tqdm import tqdm\n",
    "\n",
    "import matplotlib.pyplot as plt\n",
    "import plotly\n",
    "import plotly.graph_objs as go\n",
    "import plotly.express as px\n",
    "from plotly.subplots import make_subplots\n",
    "import seaborn as sns\n",
    "\n",
    "from sklearn.model_selection import train_test_split\n",
    "from sklearn.preprocessing import StandardScaler\n",
    "from sklearn.neural_network import MLPRegressor\n",
    "from sklearn.ensemble import RandomForestRegressor, GradientBoostingRegressor\n",
    "from sklearn.metrics import mean_squared_error, r2_score, mean_absolute_error\n",
    "from sklearn.model_selection import GridSearchCV, RandomizedSearchCV\n",
    "\n",
    "import torch\n",
    "from kan import KAN\n",
    "\n",
    "from tqdm import tqdm"
   ]
  },
  {
   "cell_type": "code",
   "execution_count": 2,
   "metadata": {},
   "outputs": [],
   "source": [
    "from raw_data_processing import get_x, get_y, get_wavelength\n",
    "from tools import JSON_Read, plotly_multi_scatter, get_all_sqz_input, KAN_es"
   ]
  },
  {
   "cell_type": "code",
   "execution_count": 3,
   "metadata": {},
   "outputs": [],
   "source": [
    "SCRIPT_DIR = os.path.abspath('')"
   ]
  },
  {
   "cell_type": "markdown",
   "metadata": {},
   "source": [
    "## Loading data"
   ]
  },
  {
   "cell_type": "code",
   "execution_count": 4,
   "metadata": {},
   "outputs": [],
   "source": [
    "d_config = JSON_Read(\"\", \"json_config.txt\")\n",
    "\n",
    "EXCITE_WAVE_LENGTH = d_config['EXCITE_WAVE_LENGTH']\n",
    "PREDICT_IONS = d_config['PREDICT_IONS']\n",
    "SPEC_FOLDER = d_config['SPEC_FOLDER']\n",
    "\n",
    "TRAIN_TEST_RATIO = d_config['TRAIN_TEST_RATIO']\n",
    "VALIDATION_TRAIN_RATIO = d_config['VALIDATION_TRAIN_RATIO']\n",
    "N_ITER_NO_CHANGE = d_config['N_ITER_NO_CHANGE']\n",
    "\n",
    "HIDDEN_LAYER_SIZES = d_config['HIDDEN_LAYER_SIZES']\n",
    "ACTIVATION = d_config['ACTIVATION']\n",
    "SOLVER = d_config['SOLVER']"
   ]
  },
  {
   "cell_type": "code",
   "execution_count": 5,
   "metadata": {},
   "outputs": [],
   "source": [
    "x = get_x(wave_length=EXCITE_WAVE_LENGTH, spec_file=\"\"+SPEC_FOLDER)\n",
    "y = get_y(l_ions=PREDICT_IONS, spec_file=\"\"+SPEC_FOLDER)"
   ]
  },
  {
   "cell_type": "markdown",
   "metadata": {},
   "source": [
    "# Squeeze input data"
   ]
  },
  {
   "cell_type": "code",
   "execution_count": 6,
   "metadata": {},
   "outputs": [],
   "source": [
    "l_wavelenth = get_wavelength(spec_file=\"\"+SPEC_FOLDER)"
   ]
  },
  {
   "cell_type": "code",
   "execution_count": 7,
   "metadata": {},
   "outputs": [],
   "source": [
    "x_matrix, y_matrix = np.broadcast_to(l_wavelenth, (len(x), len(l_wavelenth))), x.to_numpy()\n",
    "\n",
    "x_sqz = get_all_sqz_input(x_matrix, y_matrix)"
   ]
  },
  {
   "cell_type": "code",
   "execution_count": 10,
   "metadata": {},
   "outputs": [],
   "source": [
    "def alg_KAN_es(x, y, seed = None,\n",
    "               K=3, GRID = 3,\n",
    "               lamb=0., lamb_l1=1., lamb_entropy=2.,\n",
    "               steps=200, tol=0.001, n_iter_no_change=10):\n",
    "    \n",
    "    x_train, x_test, y_train, y_test = train_test_split(x, y, \n",
    "                                                        train_size=TRAIN_TEST_RATIO,\n",
    "                                                        random_state=seed)\n",
    "\n",
    "    x_val, x_train, y_val, y_train = train_test_split(x_train, y_train, \n",
    "                                                      train_size=VALIDATION_TRAIN_RATIO, \n",
    "                                                      random_state=seed)\n",
    "    scaler = StandardScaler()\n",
    "    x_train = scaler.fit_transform(x_train)\n",
    "    x_val = scaler.transform(x_val)\n",
    "    x_test = scaler.transform(x_test)\n",
    "\n",
    "    tc_x_train = torch.from_numpy(x_train)\n",
    "    tc_y_train = torch.from_numpy(y_train.reshape([-1,1]))\n",
    "    tc_x_val = torch.from_numpy(x_val)\n",
    "    tc_y_val = torch.from_numpy(y_val).reshape([-1,1])\n",
    "    tc_x_test = torch.from_numpy(x_test)\n",
    "    tc_y_test = torch.from_numpy(y_test).reshape([-1,1])\n",
    "\n",
    "    dataset_3 = {'train_input': tc_x_train,\n",
    "                 'train_label': tc_y_train,\n",
    "                 'val_input': tc_x_val,\n",
    "                 'val_label': tc_y_val,\n",
    "                 'test_input': tc_x_test,\n",
    "                 'test_label': tc_y_test}\n",
    "    \n",
    "    INPUT_SHAPE = tc_x_test.shape[1]\n",
    "\n",
    "    model_es = KAN_es(width=[INPUT_SHAPE, 1, 1], grid=GRID, k=K, seed=seed)\n",
    "    result_es = model_es.train_es(dataset_3, \n",
    "                                  tol=tol, \n",
    "                                  n_iter_no_change=n_iter_no_change,\n",
    "                                  opt=\"LBFGS\", steps=steps, \n",
    "                                  lamb=lamb,\n",
    "                                  lamb_l1=lamb_l1,\n",
    "                                  lamb_entropy=lamb_entropy\n",
    "                                  )\n",
    "    \n",
    "    pred_test = model_es(dataset_3['test_input']).cpu().detach().numpy().ravel()\n",
    "    rmse = mean_squared_error(y_test, pred_test)\n",
    "    r2 = r2_score(y_test, pred_test)\n",
    "    mae = mean_absolute_error(y_test, pred_test)\n",
    "\n",
    "    return [rmse, r2, mae]"
   ]
  },
  {
   "cell_type": "code",
   "execution_count": 8,
   "metadata": {},
   "outputs": [],
   "source": [
    "def alg_skl_model(x, y, class_model, model_kwargs, seed = None):\n",
    "    \n",
    "    x_train, x_test, y_train, y_test = train_test_split(x, y, \n",
    "                                                        train_size=TRAIN_TEST_RATIO,\n",
    "                                                        random_state=seed)\n",
    "    \n",
    "    scaler = StandardScaler()\n",
    "    x_train = scaler.fit_transform(x_train)\n",
    "    x_test = scaler.transform(x_test)\n",
    "\n",
    "    #print(model_kwargs)\n",
    "    model = class_model(random_state=seed, **model_kwargs)\n",
    "    model.fit(x_train, y_train)\n",
    "\n",
    "    pred_test = model.predict(x_test)\n",
    "    rmse = mean_squared_error(y_test, pred_test)\n",
    "    r2 = r2_score(y_test, pred_test)\n",
    "    mae = mean_absolute_error(y_test, pred_test)\n",
    "\n",
    "    return [rmse, r2, mae]"
   ]
  },
  {
   "cell_type": "code",
   "execution_count": 9,
   "metadata": {},
   "outputs": [],
   "source": [
    "MLP_model_kwargs = {'hidden_layer_sizes': 16,\n",
    "                  'activation': ACTIVATION,\n",
    "                  'solver': SOLVER,\n",
    "                  'early_stopping': True,\n",
    "                  'validation_fraction': VALIDATION_TRAIN_RATIO,\n",
    "                  'n_iter_no_change': N_ITER_NO_CHANGE,\n",
    "                  'learning_rate_init': 0.001,\n",
    "                  'learning_rate': 'adaptive'}\n",
    "\n",
    "GB_model_kwargs = {'validation_fraction': VALIDATION_TRAIN_RATIO,\n",
    "                   'n_iter_no_change': N_ITER_NO_CHANGE}\n",
    "\n",
    "RF_model_kwargs = {}"
   ]
  },
  {
   "cell_type": "code",
   "execution_count": 11,
   "metadata": {},
   "outputs": [],
   "source": [
    "def multi_exp(l_algos_names,\n",
    "              l_algos,\n",
    "              mult_X_Y,\n",
    "              l_kwargs,\n",
    "              l_metrics_names,\n",
    "              num_iter):\n",
    "    ''' Function, that process algos(X, Y) and returns df of their metrics. \n",
    "    '''\n",
    "    res_list = []\n",
    "\n",
    "    for alg, (x, y), kwargs, alg_name in zip(l_algos, mult_X_Y, l_kwargs, l_algos_names):\n",
    "        print(f'--- Processing {alg_name}')\n",
    "\n",
    "        for i in range(1, num_iter+1):\n",
    "            print(f'iter: {i}')\n",
    "            #print(kwargs)\n",
    "            l_metrics = alg(x, y, seed=i, **kwargs)\n",
    "            res_list.append([alg_name, i]+l_metrics)\n",
    "        print('-------')\n",
    "\n",
    "    return pd.DataFrame(res_list, columns=['alg_name', 'iter']+l_metrics_names)"
   ]
  },
  {
   "cell_type": "code",
   "execution_count": 15,
   "metadata": {},
   "outputs": [],
   "source": [
    "l_algos_names=['500_KAN', '500_MLP', '500_RF', '500_GB',\n",
    "               '5_KAN', '5_MLP', '5_RF', '5_GB']\n",
    "\n",
    "l_algos=[alg_KAN_es, alg_skl_model, alg_skl_model, alg_skl_model,\n",
    "         alg_KAN_es, alg_skl_model, alg_skl_model, alg_skl_model]\n",
    "\n",
    "mult_X_Y=[(x, y), (x, y), (x, y), (x, y), \n",
    "          (x_sqz, y), (x_sqz, y), (x_sqz, y), (x_sqz, y)]\n",
    "\n",
    "l_kwargs=[{},\n",
    "          {'class_model': MLPRegressor,'model_kwargs': MLP_model_kwargs},\n",
    "          {'class_model': RandomForestRegressor,'model_kwargs': RF_model_kwargs},\n",
    "          {'class_model': GradientBoostingRegressor,'model_kwargs': GB_model_kwargs},\n",
    "          {},\n",
    "          {'class_model': MLPRegressor,'model_kwargs': MLP_model_kwargs},\n",
    "          {'class_model': RandomForestRegressor,'model_kwargs': RF_model_kwargs},\n",
    "          {'class_model': GradientBoostingRegressor,'model_kwargs': GB_model_kwargs},]\n",
    "\n",
    "l_metrics_names=['rmse', 'r2', 'mae']\n",
    "\n",
    "num_iter=25"
   ]
  },
  {
   "cell_type": "code",
   "execution_count": 16,
   "metadata": {},
   "outputs": [
    {
     "data": {
      "text/plain": [
       "\"\\nl_algos_names=['500_MLP', '500_RF', '500_GB',\\n               '5_MLP', '5_RF', '5_GB']\\n\\nl_algos=[alg_skl_model, alg_skl_model, alg_skl_model,\\n         alg_skl_model, alg_skl_model, alg_skl_model]\\n\\nmult_X_Y=[(x, y), (x, y), (x, y), \\n          (x_sqz, y), (x_sqz, y), (x_sqz, y)]\\n\\nl_kwargs=[{'class_model': MLPRegressor,'model_kwargs': MLP_model_kwargs},\\n          {'class_model': RandomForestRegressor,'model_kwargs': RF_model_kwargs},\\n          {'class_model': GradientBoostingRegressor,'model_kwargs': GB_model_kwargs},\\n          {'class_model': MLPRegressor,'model_kwargs': MLP_model_kwargs},\\n          {'class_model': RandomForestRegressor,'model_kwargs': RF_model_kwargs},\\n          {'class_model': GradientBoostingRegressor,'model_kwargs': GB_model_kwargs},]\\n\\nl_metrics_names=['rmse', 'r2', 'mae']\\n\\nnum_iter=3\\n\""
      ]
     },
     "execution_count": 16,
     "metadata": {},
     "output_type": "execute_result"
    }
   ],
   "source": [
    "'''\n",
    "l_algos_names=['500_MLP', '500_RF', '500_GB',\n",
    "               '5_MLP', '5_RF', '5_GB']\n",
    "\n",
    "l_algos=[alg_skl_model, alg_skl_model, alg_skl_model,\n",
    "         alg_skl_model, alg_skl_model, alg_skl_model]\n",
    "\n",
    "mult_X_Y=[(x, y), (x, y), (x, y), \n",
    "          (x_sqz, y), (x_sqz, y), (x_sqz, y)]\n",
    "\n",
    "l_kwargs=[{'class_model': MLPRegressor,'model_kwargs': MLP_model_kwargs},\n",
    "          {'class_model': RandomForestRegressor,'model_kwargs': RF_model_kwargs},\n",
    "          {'class_model': GradientBoostingRegressor,'model_kwargs': GB_model_kwargs},\n",
    "          {'class_model': MLPRegressor,'model_kwargs': MLP_model_kwargs},\n",
    "          {'class_model': RandomForestRegressor,'model_kwargs': RF_model_kwargs},\n",
    "          {'class_model': GradientBoostingRegressor,'model_kwargs': GB_model_kwargs},]\n",
    "\n",
    "l_metrics_names=['rmse', 'r2', 'mae']\n",
    "\n",
    "num_iter=3\n",
    "'''"
   ]
  },
  {
   "cell_type": "code",
   "execution_count": 17,
   "metadata": {},
   "outputs": [
    {
     "name": "stdout",
     "output_type": "stream",
     "text": [
      "--- Processing 500_KAN\n",
      "iter: 1\n"
     ]
    },
    {
     "name": "stderr",
     "output_type": "stream",
     "text": [
      "trn_ls: 1.60e-01 | vl_ls: 4.37e-01 | e_stop: 10/10 | tst_ls: 4.73e-01 | reg: 3.72e+01 :   7%|▎   | 14/200 [02:10<28:47,  9.29s/it]\n"
     ]
    },
    {
     "name": "stdout",
     "output_type": "stream",
     "text": [
      "Early stopping criteria raised\n",
      "iter: 2\n"
     ]
    },
    {
     "name": "stderr",
     "output_type": "stream",
     "text": [
      "trn_ls: 1.38e-01 | vl_ls: 4.45e-01 | e_stop: 10/10 | tst_ls: 4.79e-01 | reg: 3.50e+01 :   7%|▎   | 14/200 [02:06<28:00,  9.04s/it]\n"
     ]
    },
    {
     "name": "stdout",
     "output_type": "stream",
     "text": [
      "Early stopping criteria raised\n",
      "iter: 3\n"
     ]
    },
    {
     "name": "stderr",
     "output_type": "stream",
     "text": [
      "trn_ls: 3.03e-01 | vl_ls: 3.87e-01 | e_stop: 10/10 | tst_ls: 4.39e-01 | reg: 4.42e+01 :  13%|▌   | 26/200 [03:52<25:53,  8.93s/it]\n"
     ]
    },
    {
     "name": "stdout",
     "output_type": "stream",
     "text": [
      "Early stopping criteria raised\n",
      "iter: 4\n"
     ]
    },
    {
     "name": "stderr",
     "output_type": "stream",
     "text": [
      "trn_ls: 1.26e-01 | vl_ls: 4.89e-01 | e_stop: 10/10 | tst_ls: 4.86e-01 | reg: 4.71e+01 :   8%|▎   | 16/200 [02:24<27:40,  9.03s/it]\n"
     ]
    },
    {
     "name": "stdout",
     "output_type": "stream",
     "text": [
      "Early stopping criteria raised\n",
      "iter: 5\n"
     ]
    },
    {
     "name": "stderr",
     "output_type": "stream",
     "text": [
      "trn_ls: 1.15e-01 | vl_ls: 4.77e-01 | e_stop: 10/10 | tst_ls: 4.20e-01 | reg: 3.84e+01 :   7%|▎   | 14/200 [02:07<28:12,  9.10s/it]\n"
     ]
    },
    {
     "name": "stdout",
     "output_type": "stream",
     "text": [
      "Early stopping criteria raised\n",
      "iter: 6\n"
     ]
    },
    {
     "name": "stderr",
     "output_type": "stream",
     "text": [
      "trn_ls: 1.48e-01 | vl_ls: 4.83e-01 | e_stop: 10/10 | tst_ls: 4.57e-01 | reg: 3.74e+01 :   8%|▎   | 15/200 [02:25<29:55,  9.70s/it]\n"
     ]
    },
    {
     "name": "stdout",
     "output_type": "stream",
     "text": [
      "Early stopping criteria raised\n",
      "iter: 7\n"
     ]
    },
    {
     "name": "stderr",
     "output_type": "stream",
     "text": [
      "trn_ls: 1.01e-01 | vl_ls: 5.39e-01 | e_stop: 10/10 | tst_ls: 4.90e-01 | reg: 3.26e+01 :   8%|▎   | 16/200 [02:34<29:34,  9.64s/it]\n"
     ]
    },
    {
     "name": "stdout",
     "output_type": "stream",
     "text": [
      "Early stopping criteria raised\n",
      "iter: 8\n"
     ]
    },
    {
     "name": "stderr",
     "output_type": "stream",
     "text": [
      "trn_ls: 1.99e-01 | vl_ls: 4.23e-01 | e_stop: 10/10 | tst_ls: 5.61e-01 | reg: 3.89e+01 :  10%|▍   | 19/200 [03:02<28:55,  9.59s/it]\n"
     ]
    },
    {
     "name": "stdout",
     "output_type": "stream",
     "text": [
      "Early stopping criteria raised\n",
      "iter: 9\n"
     ]
    },
    {
     "name": "stderr",
     "output_type": "stream",
     "text": [
      "trn_ls: 2.62e-01 | vl_ls: 4.06e-01 | e_stop: 10/10 | tst_ls: 4.86e-01 | reg: 3.65e+01 :   9%|▎   | 18/200 [02:54<29:22,  9.69s/it]\n"
     ]
    },
    {
     "name": "stdout",
     "output_type": "stream",
     "text": [
      "Early stopping criteria raised\n",
      "iter: 10\n"
     ]
    },
    {
     "name": "stderr",
     "output_type": "stream",
     "text": [
      "trn_ls: 1.21e-01 | vl_ls: 4.57e-01 | e_stop: 10/10 | tst_ls: 4.66e-01 | reg: 3.51e+01 :   8%|▎   | 17/200 [02:44<29:30,  9.68s/it]\n"
     ]
    },
    {
     "name": "stdout",
     "output_type": "stream",
     "text": [
      "Early stopping criteria raised\n",
      "iter: 11\n"
     ]
    },
    {
     "name": "stderr",
     "output_type": "stream",
     "text": [
      "trn_ls: 1.29e-01 | vl_ls: 4.67e-01 | e_stop: 10/10 | tst_ls: 3.54e-01 | reg: 4.07e+01 :   9%|▎   | 18/200 [02:49<28:29,  9.39s/it]\n"
     ]
    },
    {
     "name": "stdout",
     "output_type": "stream",
     "text": [
      "Early stopping criteria raised\n",
      "iter: 12\n"
     ]
    },
    {
     "name": "stderr",
     "output_type": "stream",
     "text": [
      "trn_ls: 1.56e-01 | vl_ls: 4.70e-01 | e_stop: 10/10 | tst_ls: 4.81e-01 | reg: 3.78e+01 :   7%|▎   | 14/200 [02:13<29:38,  9.56s/it]\n"
     ]
    },
    {
     "name": "stdout",
     "output_type": "stream",
     "text": [
      "Early stopping criteria raised\n",
      "iter: 13\n"
     ]
    },
    {
     "name": "stderr",
     "output_type": "stream",
     "text": [
      "trn_ls: 1.42e-01 | vl_ls: 4.69e-01 | e_stop: 10/10 | tst_ls: 4.03e-01 | reg: 4.34e+01 :   7%|▎   | 14/200 [02:16<30:19,  9.78s/it]\n"
     ]
    },
    {
     "name": "stdout",
     "output_type": "stream",
     "text": [
      "Early stopping criteria raised\n",
      "iter: 14\n"
     ]
    },
    {
     "name": "stderr",
     "output_type": "stream",
     "text": [
      "trn_ls: 1.45e-01 | vl_ls: 4.68e-01 | e_stop: 10/10 | tst_ls: 4.45e-01 | reg: 3.76e+01 :   6%|▎   | 13/200 [02:04<29:47,  9.56s/it]\n"
     ]
    },
    {
     "name": "stdout",
     "output_type": "stream",
     "text": [
      "Early stopping criteria raised\n",
      "iter: 15\n"
     ]
    },
    {
     "name": "stderr",
     "output_type": "stream",
     "text": [
      "trn_ls: 1.09e-01 | vl_ls: 4.74e-01 | e_stop: 10/10 | tst_ls: 4.94e-01 | reg: 3.48e+01 :   8%|▎   | 16/200 [02:33<29:29,  9.62s/it]\n"
     ]
    },
    {
     "name": "stdout",
     "output_type": "stream",
     "text": [
      "Early stopping criteria raised\n",
      "iter: 16\n"
     ]
    },
    {
     "name": "stderr",
     "output_type": "stream",
     "text": [
      "trn_ls: 2.58e-01 | vl_ls: 4.53e-01 | e_stop: 10/10 | tst_ls: 4.35e-01 | reg: 4.01e+01 :  13%|▌   | 26/200 [04:06<27:29,  9.48s/it]\n"
     ]
    },
    {
     "name": "stdout",
     "output_type": "stream",
     "text": [
      "Early stopping criteria raised\n",
      "iter: 17\n"
     ]
    },
    {
     "name": "stderr",
     "output_type": "stream",
     "text": [
      "trn_ls: 1.02e-01 | vl_ls: 4.47e-01 | e_stop: 10/10 | tst_ls: 4.52e-01 | reg: 3.35e+01 :   6%|▎   | 13/200 [02:03<29:35,  9.50s/it]\n"
     ]
    },
    {
     "name": "stdout",
     "output_type": "stream",
     "text": [
      "Early stopping criteria raised\n",
      "iter: 18\n"
     ]
    },
    {
     "name": "stderr",
     "output_type": "stream",
     "text": [
      "trn_ls: 9.17e-02 | vl_ls: 5.09e-01 | e_stop: 10/10 | tst_ls: 4.36e-01 | reg: 3.20e+01 :   6%|▎   | 13/200 [02:04<29:48,  9.56s/it]\n"
     ]
    },
    {
     "name": "stdout",
     "output_type": "stream",
     "text": [
      "Early stopping criteria raised\n",
      "iter: 19\n"
     ]
    },
    {
     "name": "stderr",
     "output_type": "stream",
     "text": [
      "trn_ls: 1.51e-01 | vl_ls: 4.69e-01 | e_stop: 10/10 | tst_ls: 3.99e-01 | reg: 3.12e+01 :  12%|▍   | 24/200 [03:46<27:43,  9.45s/it]\n"
     ]
    },
    {
     "name": "stdout",
     "output_type": "stream",
     "text": [
      "Early stopping criteria raised\n",
      "iter: 20\n"
     ]
    },
    {
     "name": "stderr",
     "output_type": "stream",
     "text": [
      "trn_ls: 3.22e-01 | vl_ls: 4.37e-01 | e_stop: 10/10 | tst_ls: 4.22e-01 | reg: 1.23e+02 :  17%|▋   | 34/200 [05:14<25:34,  9.25s/it]\n"
     ]
    },
    {
     "name": "stdout",
     "output_type": "stream",
     "text": [
      "Early stopping criteria raised\n",
      "iter: 21\n"
     ]
    },
    {
     "name": "stderr",
     "output_type": "stream",
     "text": [
      "trn_ls: 2.40e-01 | vl_ls: 4.61e-01 | e_stop: 10/10 | tst_ls: 4.53e-01 | reg: 5.58e+01 :  15%|▌   | 30/200 [04:31<25:36,  9.04s/it]\n"
     ]
    },
    {
     "name": "stdout",
     "output_type": "stream",
     "text": [
      "Early stopping criteria raised\n",
      "iter: 22\n"
     ]
    },
    {
     "name": "stderr",
     "output_type": "stream",
     "text": [
      "trn_ls: 9.34e-02 | vl_ls: 4.99e-01 | e_stop: 10/10 | tst_ls: 4.92e-01 | reg: 3.83e+01 :   8%|▎   | 17/200 [02:27<26:27,  8.67s/it]\n"
     ]
    },
    {
     "name": "stdout",
     "output_type": "stream",
     "text": [
      "Early stopping criteria raised\n",
      "iter: 23\n"
     ]
    },
    {
     "name": "stderr",
     "output_type": "stream",
     "text": [
      "trn_ls: 1.06e-01 | vl_ls: 5.08e-01 | e_stop: 10/10 | tst_ls: 4.76e-01 | reg: 3.24e+01 :   8%|▎   | 16/200 [02:26<28:06,  9.16s/it]\n"
     ]
    },
    {
     "name": "stdout",
     "output_type": "stream",
     "text": [
      "Early stopping criteria raised\n",
      "iter: 24\n"
     ]
    },
    {
     "name": "stderr",
     "output_type": "stream",
     "text": [
      "trn_ls: 1.77e-01 | vl_ls: 5.20e-01 | e_stop: 10/10 | tst_ls: 4.71e-01 | reg: 3.53e+01 :   8%|▎   | 16/200 [02:35<29:47,  9.72s/it]\n"
     ]
    },
    {
     "name": "stdout",
     "output_type": "stream",
     "text": [
      "Early stopping criteria raised\n",
      "iter: 25\n"
     ]
    },
    {
     "name": "stderr",
     "output_type": "stream",
     "text": [
      "trn_ls: 3.16e-01 | vl_ls: 4.79e-01 | e_stop: 10/10 | tst_ls: 7.66e-01 | reg: 3.65e+01 :   9%|▎   | 18/200 [02:54<29:27,  9.71s/it]\n"
     ]
    },
    {
     "name": "stdout",
     "output_type": "stream",
     "text": [
      "Early stopping criteria raised\n",
      "-------\n",
      "--- Processing 500_MLP\n",
      "iter: 1\n"
     ]
    },
    {
     "name": "stderr",
     "output_type": "stream",
     "text": [
      "c:\\Users\\Gavriil\\VS_projects\\KAN_spectroscopy\\.venv\\lib\\site-packages\\sklearn\\neural_network\\_multilayer_perceptron.py:690: ConvergenceWarning: Stochastic Optimizer: Maximum iterations (200) reached and the optimization hasn't converged yet.\n",
      "  warnings.warn(\n"
     ]
    },
    {
     "name": "stdout",
     "output_type": "stream",
     "text": [
      "iter: 2\n"
     ]
    },
    {
     "name": "stderr",
     "output_type": "stream",
     "text": [
      "c:\\Users\\Gavriil\\VS_projects\\KAN_spectroscopy\\.venv\\lib\\site-packages\\sklearn\\neural_network\\_multilayer_perceptron.py:690: ConvergenceWarning: Stochastic Optimizer: Maximum iterations (200) reached and the optimization hasn't converged yet.\n",
      "  warnings.warn(\n"
     ]
    },
    {
     "name": "stdout",
     "output_type": "stream",
     "text": [
      "iter: 3\n"
     ]
    },
    {
     "name": "stderr",
     "output_type": "stream",
     "text": [
      "c:\\Users\\Gavriil\\VS_projects\\KAN_spectroscopy\\.venv\\lib\\site-packages\\sklearn\\neural_network\\_multilayer_perceptron.py:690: ConvergenceWarning: Stochastic Optimizer: Maximum iterations (200) reached and the optimization hasn't converged yet.\n",
      "  warnings.warn(\n"
     ]
    },
    {
     "name": "stdout",
     "output_type": "stream",
     "text": [
      "iter: 4\n"
     ]
    },
    {
     "name": "stderr",
     "output_type": "stream",
     "text": [
      "c:\\Users\\Gavriil\\VS_projects\\KAN_spectroscopy\\.venv\\lib\\site-packages\\sklearn\\neural_network\\_multilayer_perceptron.py:690: ConvergenceWarning: Stochastic Optimizer: Maximum iterations (200) reached and the optimization hasn't converged yet.\n",
      "  warnings.warn(\n"
     ]
    },
    {
     "name": "stdout",
     "output_type": "stream",
     "text": [
      "iter: 5\n"
     ]
    },
    {
     "name": "stderr",
     "output_type": "stream",
     "text": [
      "c:\\Users\\Gavriil\\VS_projects\\KAN_spectroscopy\\.venv\\lib\\site-packages\\sklearn\\neural_network\\_multilayer_perceptron.py:690: ConvergenceWarning: Stochastic Optimizer: Maximum iterations (200) reached and the optimization hasn't converged yet.\n",
      "  warnings.warn(\n"
     ]
    },
    {
     "name": "stdout",
     "output_type": "stream",
     "text": [
      "iter: 6\n"
     ]
    },
    {
     "name": "stderr",
     "output_type": "stream",
     "text": [
      "c:\\Users\\Gavriil\\VS_projects\\KAN_spectroscopy\\.venv\\lib\\site-packages\\sklearn\\neural_network\\_multilayer_perceptron.py:690: ConvergenceWarning: Stochastic Optimizer: Maximum iterations (200) reached and the optimization hasn't converged yet.\n",
      "  warnings.warn(\n"
     ]
    },
    {
     "name": "stdout",
     "output_type": "stream",
     "text": [
      "iter: 7\n"
     ]
    },
    {
     "name": "stderr",
     "output_type": "stream",
     "text": [
      "c:\\Users\\Gavriil\\VS_projects\\KAN_spectroscopy\\.venv\\lib\\site-packages\\sklearn\\neural_network\\_multilayer_perceptron.py:690: ConvergenceWarning: Stochastic Optimizer: Maximum iterations (200) reached and the optimization hasn't converged yet.\n",
      "  warnings.warn(\n"
     ]
    },
    {
     "name": "stdout",
     "output_type": "stream",
     "text": [
      "iter: 8\n"
     ]
    },
    {
     "name": "stderr",
     "output_type": "stream",
     "text": [
      "c:\\Users\\Gavriil\\VS_projects\\KAN_spectroscopy\\.venv\\lib\\site-packages\\sklearn\\neural_network\\_multilayer_perceptron.py:690: ConvergenceWarning: Stochastic Optimizer: Maximum iterations (200) reached and the optimization hasn't converged yet.\n",
      "  warnings.warn(\n"
     ]
    },
    {
     "name": "stdout",
     "output_type": "stream",
     "text": [
      "iter: 9\n"
     ]
    },
    {
     "name": "stderr",
     "output_type": "stream",
     "text": [
      "c:\\Users\\Gavriil\\VS_projects\\KAN_spectroscopy\\.venv\\lib\\site-packages\\sklearn\\neural_network\\_multilayer_perceptron.py:690: ConvergenceWarning: Stochastic Optimizer: Maximum iterations (200) reached and the optimization hasn't converged yet.\n",
      "  warnings.warn(\n"
     ]
    },
    {
     "name": "stdout",
     "output_type": "stream",
     "text": [
      "iter: 10\n"
     ]
    },
    {
     "name": "stderr",
     "output_type": "stream",
     "text": [
      "c:\\Users\\Gavriil\\VS_projects\\KAN_spectroscopy\\.venv\\lib\\site-packages\\sklearn\\neural_network\\_multilayer_perceptron.py:690: ConvergenceWarning: Stochastic Optimizer: Maximum iterations (200) reached and the optimization hasn't converged yet.\n",
      "  warnings.warn(\n"
     ]
    },
    {
     "name": "stdout",
     "output_type": "stream",
     "text": [
      "iter: 11\n"
     ]
    },
    {
     "name": "stderr",
     "output_type": "stream",
     "text": [
      "c:\\Users\\Gavriil\\VS_projects\\KAN_spectroscopy\\.venv\\lib\\site-packages\\sklearn\\neural_network\\_multilayer_perceptron.py:690: ConvergenceWarning: Stochastic Optimizer: Maximum iterations (200) reached and the optimization hasn't converged yet.\n",
      "  warnings.warn(\n"
     ]
    },
    {
     "name": "stdout",
     "output_type": "stream",
     "text": [
      "iter: 12\n"
     ]
    },
    {
     "name": "stderr",
     "output_type": "stream",
     "text": [
      "c:\\Users\\Gavriil\\VS_projects\\KAN_spectroscopy\\.venv\\lib\\site-packages\\sklearn\\neural_network\\_multilayer_perceptron.py:690: ConvergenceWarning: Stochastic Optimizer: Maximum iterations (200) reached and the optimization hasn't converged yet.\n",
      "  warnings.warn(\n"
     ]
    },
    {
     "name": "stdout",
     "output_type": "stream",
     "text": [
      "iter: 13\n"
     ]
    },
    {
     "name": "stderr",
     "output_type": "stream",
     "text": [
      "c:\\Users\\Gavriil\\VS_projects\\KAN_spectroscopy\\.venv\\lib\\site-packages\\sklearn\\neural_network\\_multilayer_perceptron.py:690: ConvergenceWarning: Stochastic Optimizer: Maximum iterations (200) reached and the optimization hasn't converged yet.\n",
      "  warnings.warn(\n"
     ]
    },
    {
     "name": "stdout",
     "output_type": "stream",
     "text": [
      "iter: 14\n"
     ]
    },
    {
     "name": "stderr",
     "output_type": "stream",
     "text": [
      "c:\\Users\\Gavriil\\VS_projects\\KAN_spectroscopy\\.venv\\lib\\site-packages\\sklearn\\neural_network\\_multilayer_perceptron.py:690: ConvergenceWarning: Stochastic Optimizer: Maximum iterations (200) reached and the optimization hasn't converged yet.\n",
      "  warnings.warn(\n"
     ]
    },
    {
     "name": "stdout",
     "output_type": "stream",
     "text": [
      "iter: 15\n"
     ]
    },
    {
     "name": "stderr",
     "output_type": "stream",
     "text": [
      "c:\\Users\\Gavriil\\VS_projects\\KAN_spectroscopy\\.venv\\lib\\site-packages\\sklearn\\neural_network\\_multilayer_perceptron.py:690: ConvergenceWarning: Stochastic Optimizer: Maximum iterations (200) reached and the optimization hasn't converged yet.\n",
      "  warnings.warn(\n"
     ]
    },
    {
     "name": "stdout",
     "output_type": "stream",
     "text": [
      "iter: 16\n"
     ]
    },
    {
     "name": "stderr",
     "output_type": "stream",
     "text": [
      "c:\\Users\\Gavriil\\VS_projects\\KAN_spectroscopy\\.venv\\lib\\site-packages\\sklearn\\neural_network\\_multilayer_perceptron.py:690: ConvergenceWarning: Stochastic Optimizer: Maximum iterations (200) reached and the optimization hasn't converged yet.\n",
      "  warnings.warn(\n"
     ]
    },
    {
     "name": "stdout",
     "output_type": "stream",
     "text": [
      "iter: 17\n"
     ]
    },
    {
     "name": "stderr",
     "output_type": "stream",
     "text": [
      "c:\\Users\\Gavriil\\VS_projects\\KAN_spectroscopy\\.venv\\lib\\site-packages\\sklearn\\neural_network\\_multilayer_perceptron.py:690: ConvergenceWarning: Stochastic Optimizer: Maximum iterations (200) reached and the optimization hasn't converged yet.\n",
      "  warnings.warn(\n"
     ]
    },
    {
     "name": "stdout",
     "output_type": "stream",
     "text": [
      "iter: 18\n"
     ]
    },
    {
     "name": "stderr",
     "output_type": "stream",
     "text": [
      "c:\\Users\\Gavriil\\VS_projects\\KAN_spectroscopy\\.venv\\lib\\site-packages\\sklearn\\neural_network\\_multilayer_perceptron.py:690: ConvergenceWarning: Stochastic Optimizer: Maximum iterations (200) reached and the optimization hasn't converged yet.\n",
      "  warnings.warn(\n"
     ]
    },
    {
     "name": "stdout",
     "output_type": "stream",
     "text": [
      "iter: 19\n"
     ]
    },
    {
     "name": "stderr",
     "output_type": "stream",
     "text": [
      "c:\\Users\\Gavriil\\VS_projects\\KAN_spectroscopy\\.venv\\lib\\site-packages\\sklearn\\neural_network\\_multilayer_perceptron.py:690: ConvergenceWarning: Stochastic Optimizer: Maximum iterations (200) reached and the optimization hasn't converged yet.\n",
      "  warnings.warn(\n"
     ]
    },
    {
     "name": "stdout",
     "output_type": "stream",
     "text": [
      "iter: 20\n"
     ]
    },
    {
     "name": "stderr",
     "output_type": "stream",
     "text": [
      "c:\\Users\\Gavriil\\VS_projects\\KAN_spectroscopy\\.venv\\lib\\site-packages\\sklearn\\neural_network\\_multilayer_perceptron.py:690: ConvergenceWarning: Stochastic Optimizer: Maximum iterations (200) reached and the optimization hasn't converged yet.\n",
      "  warnings.warn(\n"
     ]
    },
    {
     "name": "stdout",
     "output_type": "stream",
     "text": [
      "iter: 21\n"
     ]
    },
    {
     "name": "stderr",
     "output_type": "stream",
     "text": [
      "c:\\Users\\Gavriil\\VS_projects\\KAN_spectroscopy\\.venv\\lib\\site-packages\\sklearn\\neural_network\\_multilayer_perceptron.py:690: ConvergenceWarning: Stochastic Optimizer: Maximum iterations (200) reached and the optimization hasn't converged yet.\n",
      "  warnings.warn(\n"
     ]
    },
    {
     "name": "stdout",
     "output_type": "stream",
     "text": [
      "iter: 22\n"
     ]
    },
    {
     "name": "stderr",
     "output_type": "stream",
     "text": [
      "c:\\Users\\Gavriil\\VS_projects\\KAN_spectroscopy\\.venv\\lib\\site-packages\\sklearn\\neural_network\\_multilayer_perceptron.py:690: ConvergenceWarning: Stochastic Optimizer: Maximum iterations (200) reached and the optimization hasn't converged yet.\n",
      "  warnings.warn(\n"
     ]
    },
    {
     "name": "stdout",
     "output_type": "stream",
     "text": [
      "iter: 23\n"
     ]
    },
    {
     "name": "stderr",
     "output_type": "stream",
     "text": [
      "c:\\Users\\Gavriil\\VS_projects\\KAN_spectroscopy\\.venv\\lib\\site-packages\\sklearn\\neural_network\\_multilayer_perceptron.py:690: ConvergenceWarning: Stochastic Optimizer: Maximum iterations (200) reached and the optimization hasn't converged yet.\n",
      "  warnings.warn(\n"
     ]
    },
    {
     "name": "stdout",
     "output_type": "stream",
     "text": [
      "iter: 24\n"
     ]
    },
    {
     "name": "stderr",
     "output_type": "stream",
     "text": [
      "c:\\Users\\Gavriil\\VS_projects\\KAN_spectroscopy\\.venv\\lib\\site-packages\\sklearn\\neural_network\\_multilayer_perceptron.py:690: ConvergenceWarning: Stochastic Optimizer: Maximum iterations (200) reached and the optimization hasn't converged yet.\n",
      "  warnings.warn(\n"
     ]
    },
    {
     "name": "stdout",
     "output_type": "stream",
     "text": [
      "iter: 25\n"
     ]
    },
    {
     "name": "stderr",
     "output_type": "stream",
     "text": [
      "c:\\Users\\Gavriil\\VS_projects\\KAN_spectroscopy\\.venv\\lib\\site-packages\\sklearn\\neural_network\\_multilayer_perceptron.py:690: ConvergenceWarning: Stochastic Optimizer: Maximum iterations (200) reached and the optimization hasn't converged yet.\n",
      "  warnings.warn(\n"
     ]
    },
    {
     "name": "stdout",
     "output_type": "stream",
     "text": [
      "-------\n",
      "--- Processing 500_RF\n",
      "iter: 1\n",
      "iter: 2\n",
      "iter: 3\n",
      "iter: 4\n",
      "iter: 5\n",
      "iter: 6\n",
      "iter: 7\n",
      "iter: 8\n",
      "iter: 9\n",
      "iter: 10\n",
      "iter: 11\n",
      "iter: 12\n",
      "iter: 13\n",
      "iter: 14\n",
      "iter: 15\n",
      "iter: 16\n",
      "iter: 17\n",
      "iter: 18\n",
      "iter: 19\n",
      "iter: 20\n",
      "iter: 21\n",
      "iter: 22\n",
      "iter: 23\n",
      "iter: 24\n",
      "iter: 25\n",
      "-------\n",
      "--- Processing 500_GB\n",
      "iter: 1\n",
      "iter: 2\n",
      "iter: 3\n",
      "iter: 4\n",
      "iter: 5\n",
      "iter: 6\n",
      "iter: 7\n",
      "iter: 8\n",
      "iter: 9\n",
      "iter: 10\n",
      "iter: 11\n",
      "iter: 12\n",
      "iter: 13\n",
      "iter: 14\n",
      "iter: 15\n",
      "iter: 16\n",
      "iter: 17\n",
      "iter: 18\n",
      "iter: 19\n",
      "iter: 20\n",
      "iter: 21\n",
      "iter: 22\n",
      "iter: 23\n",
      "iter: 24\n",
      "iter: 25\n",
      "-------\n",
      "--- Processing 5_KAN\n",
      "iter: 1\n"
     ]
    },
    {
     "name": "stderr",
     "output_type": "stream",
     "text": [
      "trn_ls: 3.17e-01 | vl_ls: 3.54e-01 | e_stop: 10/10 | tst_ls: 3.66e-01 | reg: 5.84e+00 :   6%|▎   | 13/200 [00:05<01:14,  2.50it/s]\n"
     ]
    },
    {
     "name": "stdout",
     "output_type": "stream",
     "text": [
      "Early stopping criteria raised\n",
      "iter: 2\n"
     ]
    },
    {
     "name": "stderr",
     "output_type": "stream",
     "text": [
      "trn_ls: 3.35e-01 | vl_ls: 3.03e-01 | e_stop: 10/10 | tst_ls: 2.96e-01 | reg: 6.57e+00 :  12%|▌   | 25/200 [00:09<01:09,  2.52it/s]\n"
     ]
    },
    {
     "name": "stdout",
     "output_type": "stream",
     "text": [
      "Early stopping criteria raised\n",
      "iter: 3\n"
     ]
    },
    {
     "name": "stderr",
     "output_type": "stream",
     "text": [
      "trn_ls: 3.15e-01 | vl_ls: 3.50e-01 | e_stop: 10/10 | tst_ls: 3.61e-01 | reg: 6.16e+00 :   9%|▎   | 18/200 [00:07<01:13,  2.47it/s]\n"
     ]
    },
    {
     "name": "stdout",
     "output_type": "stream",
     "text": [
      "Early stopping criteria raised\n",
      "iter: 4\n"
     ]
    },
    {
     "name": "stderr",
     "output_type": "stream",
     "text": [
      "trn_ls: 3.10e-01 | vl_ls: 3.65e-01 | e_stop: 10/10 | tst_ls: 3.78e-01 | reg: 5.74e+00 :   8%|▎   | 17/200 [00:06<01:13,  2.50it/s]\n"
     ]
    },
    {
     "name": "stdout",
     "output_type": "stream",
     "text": [
      "Early stopping criteria raised\n",
      "iter: 5\n"
     ]
    },
    {
     "name": "stderr",
     "output_type": "stream",
     "text": [
      "trn_ls: 3.32e-01 | vl_ls: 3.13e-01 | e_stop: 10/10 | tst_ls: 3.07e-01 | reg: 6.07e+00 :  18%|▋   | 36/200 [00:14<01:08,  2.41it/s]\n"
     ]
    },
    {
     "name": "stdout",
     "output_type": "stream",
     "text": [
      "Early stopping criteria raised\n",
      "iter: 6\n"
     ]
    },
    {
     "name": "stderr",
     "output_type": "stream",
     "text": [
      "trn_ls: 3.26e-01 | vl_ls: 3.32e-01 | e_stop: 10/10 | tst_ls: 3.31e-01 | reg: 6.27e+00 :   8%|▎   | 17/200 [00:06<01:14,  2.45it/s]\n"
     ]
    },
    {
     "name": "stdout",
     "output_type": "stream",
     "text": [
      "Early stopping criteria raised\n",
      "iter: 7\n"
     ]
    },
    {
     "name": "stderr",
     "output_type": "stream",
     "text": [
      "trn_ls: 3.24e-01 | vl_ls: 3.07e-01 | e_stop: 10/10 | tst_ls: 3.85e-01 | reg: 5.87e+00 :   8%|▎   | 17/200 [00:06<01:14,  2.47it/s]\n"
     ]
    },
    {
     "name": "stdout",
     "output_type": "stream",
     "text": [
      "Early stopping criteria raised\n",
      "iter: 8\n"
     ]
    },
    {
     "name": "stderr",
     "output_type": "stream",
     "text": [
      "trn_ls: 3.11e-01 | vl_ls: 3.47e-01 | e_stop: 10/10 | tst_ls: 4.10e-01 | reg: 7.00e+00 :  10%|▍   | 19/200 [00:07<01:14,  2.44it/s]\n"
     ]
    },
    {
     "name": "stdout",
     "output_type": "stream",
     "text": [
      "Early stopping criteria raised\n",
      "iter: 9\n"
     ]
    },
    {
     "name": "stderr",
     "output_type": "stream",
     "text": [
      "trn_ls: 3.19e-01 | vl_ls: 3.05e-01 | e_stop: 10/10 | tst_ls: 4.05e-01 | reg: 6.19e+00 :   8%|▎   | 17/200 [00:06<01:15,  2.43it/s]\n"
     ]
    },
    {
     "name": "stdout",
     "output_type": "stream",
     "text": [
      "Early stopping criteria raised\n",
      "iter: 10\n"
     ]
    },
    {
     "name": "stderr",
     "output_type": "stream",
     "text": [
      "trn_ls: 3.22e-01 | vl_ls: 3.26e-01 | e_stop: 10/10 | tst_ls: 3.57e-01 | reg: 6.23e+00 :  10%|▍   | 20/200 [00:07<01:11,  2.53it/s]\n"
     ]
    },
    {
     "name": "stdout",
     "output_type": "stream",
     "text": [
      "Early stopping criteria raised\n",
      "iter: 11\n"
     ]
    },
    {
     "name": "stderr",
     "output_type": "stream",
     "text": [
      "trn_ls: 3.10e-01 | vl_ls: 3.71e-01 | e_stop: 10/10 | tst_ls: 3.51e-01 | reg: 6.03e+00 :   7%|▎   | 14/200 [00:05<01:15,  2.45it/s]\n"
     ]
    },
    {
     "name": "stdout",
     "output_type": "stream",
     "text": [
      "Early stopping criteria raised\n",
      "iter: 12\n"
     ]
    },
    {
     "name": "stderr",
     "output_type": "stream",
     "text": [
      "trn_ls: 3.18e-01 | vl_ls: 3.64e-01 | e_stop: 10/10 | tst_ls: 3.12e-01 | reg: 5.93e+00 :   7%|▎   | 14/200 [00:05<01:16,  2.44it/s]\n"
     ]
    },
    {
     "name": "stdout",
     "output_type": "stream",
     "text": [
      "Early stopping criteria raised\n",
      "iter: 13\n"
     ]
    },
    {
     "name": "stderr",
     "output_type": "stream",
     "text": [
      "trn_ls: 3.12e-01 | vl_ls: 3.54e-01 | e_stop: 10/10 | tst_ls: 3.64e-01 | reg: 6.38e+00 :   8%|▎   | 17/200 [00:06<01:14,  2.47it/s]\n"
     ]
    },
    {
     "name": "stdout",
     "output_type": "stream",
     "text": [
      "Early stopping criteria raised\n",
      "iter: 14\n"
     ]
    },
    {
     "name": "stderr",
     "output_type": "stream",
     "text": [
      "trn_ls: 3.29e-01 | vl_ls: 3.36e-01 | e_stop: 10/10 | tst_ls: 2.94e-01 | reg: 6.45e+00 :  12%|▍   | 23/200 [00:09<01:12,  2.44it/s]\n"
     ]
    },
    {
     "name": "stdout",
     "output_type": "stream",
     "text": [
      "Early stopping criteria raised\n",
      "iter: 15\n"
     ]
    },
    {
     "name": "stderr",
     "output_type": "stream",
     "text": [
      "trn_ls: 3.24e-01 | vl_ls: 3.43e-01 | e_stop: 10/10 | tst_ls: 3.15e-01 | reg: 6.08e+00 :   7%|▎   | 14/200 [00:05<01:15,  2.47it/s]\n"
     ]
    },
    {
     "name": "stdout",
     "output_type": "stream",
     "text": [
      "Early stopping criteria raised\n",
      "iter: 16\n"
     ]
    },
    {
     "name": "stderr",
     "output_type": "stream",
     "text": [
      "trn_ls: 3.09e-01 | vl_ls: 3.66e-01 | e_stop: 10/10 | tst_ls: 3.59e-01 | reg: 6.44e+00 :  10%|▍   | 20/200 [00:07<01:10,  2.56it/s]\n"
     ]
    },
    {
     "name": "stdout",
     "output_type": "stream",
     "text": [
      "Early stopping criteria raised\n",
      "iter: 17\n"
     ]
    },
    {
     "name": "stderr",
     "output_type": "stream",
     "text": [
      "trn_ls: 3.16e-01 | vl_ls: 3.36e-01 | e_stop: 10/10 | tst_ls: 3.80e-01 | reg: 5.94e+00 :   8%|▎   | 17/200 [00:06<01:13,  2.48it/s]\n"
     ]
    },
    {
     "name": "stdout",
     "output_type": "stream",
     "text": [
      "Early stopping criteria raised\n",
      "iter: 18\n"
     ]
    },
    {
     "name": "stderr",
     "output_type": "stream",
     "text": [
      "trn_ls: 3.23e-01 | vl_ls: 3.47e-01 | e_stop: 10/10 | tst_ls: 3.24e-01 | reg: 5.99e+00 :   7%|▎   | 14/200 [00:05<01:15,  2.45it/s]\n"
     ]
    },
    {
     "name": "stdout",
     "output_type": "stream",
     "text": [
      "Early stopping criteria raised\n",
      "iter: 19\n"
     ]
    },
    {
     "name": "stderr",
     "output_type": "stream",
     "text": [
      "trn_ls: 3.19e-01 | vl_ls: 3.67e-01 | e_stop: 10/10 | tst_ls: 3.10e-01 | reg: 7.40e+00 :  11%|▍   | 22/200 [00:09<01:13,  2.42it/s]\n"
     ]
    },
    {
     "name": "stdout",
     "output_type": "stream",
     "text": [
      "Early stopping criteria raised\n",
      "iter: 20\n"
     ]
    },
    {
     "name": "stderr",
     "output_type": "stream",
     "text": [
      "trn_ls: 3.20e-01 | vl_ls: 3.44e-01 | e_stop: 10/10 | tst_ls: 3.50e-01 | reg: 5.99e+00 :   7%|▎   | 14/200 [00:05<01:15,  2.47it/s]\n"
     ]
    },
    {
     "name": "stdout",
     "output_type": "stream",
     "text": [
      "Early stopping criteria raised\n",
      "iter: 21\n"
     ]
    },
    {
     "name": "stderr",
     "output_type": "stream",
     "text": [
      "trn_ls: 3.17e-01 | vl_ls: 3.79e-01 | e_stop: 10/10 | tst_ls: 2.72e-01 | reg: 6.19e+00 :   8%|▎   | 16/200 [00:06<01:14,  2.46it/s]\n"
     ]
    },
    {
     "name": "stdout",
     "output_type": "stream",
     "text": [
      "Early stopping criteria raised\n",
      "iter: 22\n"
     ]
    },
    {
     "name": "stderr",
     "output_type": "stream",
     "text": [
      "trn_ls: 3.19e-01 | vl_ls: 3.50e-01 | e_stop: 10/10 | tst_ls: 3.27e-01 | reg: 5.95e+00 :  10%|▍   | 21/200 [00:08<01:10,  2.53it/s]\n"
     ]
    },
    {
     "name": "stdout",
     "output_type": "stream",
     "text": [
      "Early stopping criteria raised\n",
      "iter: 23\n"
     ]
    },
    {
     "name": "stderr",
     "output_type": "stream",
     "text": [
      "trn_ls: 3.26e-01 | vl_ls: 3.30e-01 | e_stop: 10/10 | tst_ls: 3.21e-01 | reg: 6.37e+00 :   9%|▎   | 18/200 [00:07<01:13,  2.47it/s]\n"
     ]
    },
    {
     "name": "stdout",
     "output_type": "stream",
     "text": [
      "Early stopping criteria raised\n",
      "iter: 24\n"
     ]
    },
    {
     "name": "stderr",
     "output_type": "stream",
     "text": [
      "trn_ls: 3.15e-01 | vl_ls: 3.78e-01 | e_stop: 10/10 | tst_ls: 3.38e-01 | reg: 6.32e+00 :   8%|▎   | 16/200 [00:06<01:20,  2.30it/s]\n"
     ]
    },
    {
     "name": "stdout",
     "output_type": "stream",
     "text": [
      "Early stopping criteria raised\n",
      "iter: 25\n"
     ]
    },
    {
     "name": "stderr",
     "output_type": "stream",
     "text": [
      "trn_ls: 3.19e-01 | vl_ls: 3.57e-01 | e_stop: 10/10 | tst_ls: 3.08e-01 | reg: 6.26e+00 :  11%|▍   | 22/200 [00:08<01:10,  2.52it/s]\n"
     ]
    },
    {
     "name": "stdout",
     "output_type": "stream",
     "text": [
      "Early stopping criteria raised\n",
      "-------\n",
      "--- Processing 5_MLP\n",
      "iter: 1\n"
     ]
    },
    {
     "name": "stderr",
     "output_type": "stream",
     "text": [
      "c:\\Users\\Gavriil\\VS_projects\\KAN_spectroscopy\\.venv\\lib\\site-packages\\sklearn\\neural_network\\_multilayer_perceptron.py:690: ConvergenceWarning: Stochastic Optimizer: Maximum iterations (200) reached and the optimization hasn't converged yet.\n",
      "  warnings.warn(\n"
     ]
    },
    {
     "name": "stdout",
     "output_type": "stream",
     "text": [
      "iter: 2\n"
     ]
    },
    {
     "name": "stderr",
     "output_type": "stream",
     "text": [
      "c:\\Users\\Gavriil\\VS_projects\\KAN_spectroscopy\\.venv\\lib\\site-packages\\sklearn\\neural_network\\_multilayer_perceptron.py:690: ConvergenceWarning: Stochastic Optimizer: Maximum iterations (200) reached and the optimization hasn't converged yet.\n",
      "  warnings.warn(\n"
     ]
    },
    {
     "name": "stdout",
     "output_type": "stream",
     "text": [
      "iter: 3\n"
     ]
    },
    {
     "name": "stderr",
     "output_type": "stream",
     "text": [
      "c:\\Users\\Gavriil\\VS_projects\\KAN_spectroscopy\\.venv\\lib\\site-packages\\sklearn\\neural_network\\_multilayer_perceptron.py:690: ConvergenceWarning: Stochastic Optimizer: Maximum iterations (200) reached and the optimization hasn't converged yet.\n",
      "  warnings.warn(\n"
     ]
    },
    {
     "name": "stdout",
     "output_type": "stream",
     "text": [
      "iter: 4\n"
     ]
    },
    {
     "name": "stderr",
     "output_type": "stream",
     "text": [
      "c:\\Users\\Gavriil\\VS_projects\\KAN_spectroscopy\\.venv\\lib\\site-packages\\sklearn\\neural_network\\_multilayer_perceptron.py:690: ConvergenceWarning: Stochastic Optimizer: Maximum iterations (200) reached and the optimization hasn't converged yet.\n",
      "  warnings.warn(\n"
     ]
    },
    {
     "name": "stdout",
     "output_type": "stream",
     "text": [
      "iter: 5\n"
     ]
    },
    {
     "name": "stderr",
     "output_type": "stream",
     "text": [
      "c:\\Users\\Gavriil\\VS_projects\\KAN_spectroscopy\\.venv\\lib\\site-packages\\sklearn\\neural_network\\_multilayer_perceptron.py:690: ConvergenceWarning: Stochastic Optimizer: Maximum iterations (200) reached and the optimization hasn't converged yet.\n",
      "  warnings.warn(\n"
     ]
    },
    {
     "name": "stdout",
     "output_type": "stream",
     "text": [
      "iter: 6\n"
     ]
    },
    {
     "name": "stderr",
     "output_type": "stream",
     "text": [
      "c:\\Users\\Gavriil\\VS_projects\\KAN_spectroscopy\\.venv\\lib\\site-packages\\sklearn\\neural_network\\_multilayer_perceptron.py:690: ConvergenceWarning: Stochastic Optimizer: Maximum iterations (200) reached and the optimization hasn't converged yet.\n",
      "  warnings.warn(\n"
     ]
    },
    {
     "name": "stdout",
     "output_type": "stream",
     "text": [
      "iter: 7\n"
     ]
    },
    {
     "name": "stderr",
     "output_type": "stream",
     "text": [
      "c:\\Users\\Gavriil\\VS_projects\\KAN_spectroscopy\\.venv\\lib\\site-packages\\sklearn\\neural_network\\_multilayer_perceptron.py:690: ConvergenceWarning: Stochastic Optimizer: Maximum iterations (200) reached and the optimization hasn't converged yet.\n",
      "  warnings.warn(\n"
     ]
    },
    {
     "name": "stdout",
     "output_type": "stream",
     "text": [
      "iter: 8\n"
     ]
    },
    {
     "name": "stderr",
     "output_type": "stream",
     "text": [
      "c:\\Users\\Gavriil\\VS_projects\\KAN_spectroscopy\\.venv\\lib\\site-packages\\sklearn\\neural_network\\_multilayer_perceptron.py:690: ConvergenceWarning: Stochastic Optimizer: Maximum iterations (200) reached and the optimization hasn't converged yet.\n",
      "  warnings.warn(\n"
     ]
    },
    {
     "name": "stdout",
     "output_type": "stream",
     "text": [
      "iter: 9\n"
     ]
    },
    {
     "name": "stderr",
     "output_type": "stream",
     "text": [
      "c:\\Users\\Gavriil\\VS_projects\\KAN_spectroscopy\\.venv\\lib\\site-packages\\sklearn\\neural_network\\_multilayer_perceptron.py:690: ConvergenceWarning: Stochastic Optimizer: Maximum iterations (200) reached and the optimization hasn't converged yet.\n",
      "  warnings.warn(\n"
     ]
    },
    {
     "name": "stdout",
     "output_type": "stream",
     "text": [
      "iter: 10\n"
     ]
    },
    {
     "name": "stderr",
     "output_type": "stream",
     "text": [
      "c:\\Users\\Gavriil\\VS_projects\\KAN_spectroscopy\\.venv\\lib\\site-packages\\sklearn\\neural_network\\_multilayer_perceptron.py:690: ConvergenceWarning: Stochastic Optimizer: Maximum iterations (200) reached and the optimization hasn't converged yet.\n",
      "  warnings.warn(\n"
     ]
    },
    {
     "name": "stdout",
     "output_type": "stream",
     "text": [
      "iter: 11\n"
     ]
    },
    {
     "name": "stderr",
     "output_type": "stream",
     "text": [
      "c:\\Users\\Gavriil\\VS_projects\\KAN_spectroscopy\\.venv\\lib\\site-packages\\sklearn\\neural_network\\_multilayer_perceptron.py:690: ConvergenceWarning: Stochastic Optimizer: Maximum iterations (200) reached and the optimization hasn't converged yet.\n",
      "  warnings.warn(\n"
     ]
    },
    {
     "name": "stdout",
     "output_type": "stream",
     "text": [
      "iter: 12\n"
     ]
    },
    {
     "name": "stderr",
     "output_type": "stream",
     "text": [
      "c:\\Users\\Gavriil\\VS_projects\\KAN_spectroscopy\\.venv\\lib\\site-packages\\sklearn\\neural_network\\_multilayer_perceptron.py:690: ConvergenceWarning: Stochastic Optimizer: Maximum iterations (200) reached and the optimization hasn't converged yet.\n",
      "  warnings.warn(\n"
     ]
    },
    {
     "name": "stdout",
     "output_type": "stream",
     "text": [
      "iter: 13\n"
     ]
    },
    {
     "name": "stderr",
     "output_type": "stream",
     "text": [
      "c:\\Users\\Gavriil\\VS_projects\\KAN_spectroscopy\\.venv\\lib\\site-packages\\sklearn\\neural_network\\_multilayer_perceptron.py:690: ConvergenceWarning: Stochastic Optimizer: Maximum iterations (200) reached and the optimization hasn't converged yet.\n",
      "  warnings.warn(\n"
     ]
    },
    {
     "name": "stdout",
     "output_type": "stream",
     "text": [
      "iter: 14\n"
     ]
    },
    {
     "name": "stderr",
     "output_type": "stream",
     "text": [
      "c:\\Users\\Gavriil\\VS_projects\\KAN_spectroscopy\\.venv\\lib\\site-packages\\sklearn\\neural_network\\_multilayer_perceptron.py:690: ConvergenceWarning: Stochastic Optimizer: Maximum iterations (200) reached and the optimization hasn't converged yet.\n",
      "  warnings.warn(\n"
     ]
    },
    {
     "name": "stdout",
     "output_type": "stream",
     "text": [
      "iter: 15\n"
     ]
    },
    {
     "name": "stderr",
     "output_type": "stream",
     "text": [
      "c:\\Users\\Gavriil\\VS_projects\\KAN_spectroscopy\\.venv\\lib\\site-packages\\sklearn\\neural_network\\_multilayer_perceptron.py:690: ConvergenceWarning: Stochastic Optimizer: Maximum iterations (200) reached and the optimization hasn't converged yet.\n",
      "  warnings.warn(\n"
     ]
    },
    {
     "name": "stdout",
     "output_type": "stream",
     "text": [
      "iter: 16\n"
     ]
    },
    {
     "name": "stderr",
     "output_type": "stream",
     "text": [
      "c:\\Users\\Gavriil\\VS_projects\\KAN_spectroscopy\\.venv\\lib\\site-packages\\sklearn\\neural_network\\_multilayer_perceptron.py:690: ConvergenceWarning: Stochastic Optimizer: Maximum iterations (200) reached and the optimization hasn't converged yet.\n",
      "  warnings.warn(\n"
     ]
    },
    {
     "name": "stdout",
     "output_type": "stream",
     "text": [
      "iter: 17\n"
     ]
    },
    {
     "name": "stderr",
     "output_type": "stream",
     "text": [
      "c:\\Users\\Gavriil\\VS_projects\\KAN_spectroscopy\\.venv\\lib\\site-packages\\sklearn\\neural_network\\_multilayer_perceptron.py:690: ConvergenceWarning: Stochastic Optimizer: Maximum iterations (200) reached and the optimization hasn't converged yet.\n",
      "  warnings.warn(\n"
     ]
    },
    {
     "name": "stdout",
     "output_type": "stream",
     "text": [
      "iter: 18\n"
     ]
    },
    {
     "name": "stderr",
     "output_type": "stream",
     "text": [
      "c:\\Users\\Gavriil\\VS_projects\\KAN_spectroscopy\\.venv\\lib\\site-packages\\sklearn\\neural_network\\_multilayer_perceptron.py:690: ConvergenceWarning: Stochastic Optimizer: Maximum iterations (200) reached and the optimization hasn't converged yet.\n",
      "  warnings.warn(\n"
     ]
    },
    {
     "name": "stdout",
     "output_type": "stream",
     "text": [
      "iter: 19\n"
     ]
    },
    {
     "name": "stderr",
     "output_type": "stream",
     "text": [
      "c:\\Users\\Gavriil\\VS_projects\\KAN_spectroscopy\\.venv\\lib\\site-packages\\sklearn\\neural_network\\_multilayer_perceptron.py:690: ConvergenceWarning: Stochastic Optimizer: Maximum iterations (200) reached and the optimization hasn't converged yet.\n",
      "  warnings.warn(\n"
     ]
    },
    {
     "name": "stdout",
     "output_type": "stream",
     "text": [
      "iter: 20\n"
     ]
    },
    {
     "name": "stderr",
     "output_type": "stream",
     "text": [
      "c:\\Users\\Gavriil\\VS_projects\\KAN_spectroscopy\\.venv\\lib\\site-packages\\sklearn\\neural_network\\_multilayer_perceptron.py:690: ConvergenceWarning: Stochastic Optimizer: Maximum iterations (200) reached and the optimization hasn't converged yet.\n",
      "  warnings.warn(\n"
     ]
    },
    {
     "name": "stdout",
     "output_type": "stream",
     "text": [
      "iter: 21\n"
     ]
    },
    {
     "name": "stderr",
     "output_type": "stream",
     "text": [
      "c:\\Users\\Gavriil\\VS_projects\\KAN_spectroscopy\\.venv\\lib\\site-packages\\sklearn\\neural_network\\_multilayer_perceptron.py:690: ConvergenceWarning: Stochastic Optimizer: Maximum iterations (200) reached and the optimization hasn't converged yet.\n",
      "  warnings.warn(\n"
     ]
    },
    {
     "name": "stdout",
     "output_type": "stream",
     "text": [
      "iter: 22\n"
     ]
    },
    {
     "name": "stderr",
     "output_type": "stream",
     "text": [
      "c:\\Users\\Gavriil\\VS_projects\\KAN_spectroscopy\\.venv\\lib\\site-packages\\sklearn\\neural_network\\_multilayer_perceptron.py:690: ConvergenceWarning: Stochastic Optimizer: Maximum iterations (200) reached and the optimization hasn't converged yet.\n",
      "  warnings.warn(\n"
     ]
    },
    {
     "name": "stdout",
     "output_type": "stream",
     "text": [
      "iter: 23\n"
     ]
    },
    {
     "name": "stderr",
     "output_type": "stream",
     "text": [
      "c:\\Users\\Gavriil\\VS_projects\\KAN_spectroscopy\\.venv\\lib\\site-packages\\sklearn\\neural_network\\_multilayer_perceptron.py:690: ConvergenceWarning: Stochastic Optimizer: Maximum iterations (200) reached and the optimization hasn't converged yet.\n",
      "  warnings.warn(\n"
     ]
    },
    {
     "name": "stdout",
     "output_type": "stream",
     "text": [
      "iter: 24\n"
     ]
    },
    {
     "name": "stderr",
     "output_type": "stream",
     "text": [
      "c:\\Users\\Gavriil\\VS_projects\\KAN_spectroscopy\\.venv\\lib\\site-packages\\sklearn\\neural_network\\_multilayer_perceptron.py:690: ConvergenceWarning: Stochastic Optimizer: Maximum iterations (200) reached and the optimization hasn't converged yet.\n",
      "  warnings.warn(\n"
     ]
    },
    {
     "name": "stdout",
     "output_type": "stream",
     "text": [
      "iter: 25\n"
     ]
    },
    {
     "name": "stderr",
     "output_type": "stream",
     "text": [
      "c:\\Users\\Gavriil\\VS_projects\\KAN_spectroscopy\\.venv\\lib\\site-packages\\sklearn\\neural_network\\_multilayer_perceptron.py:690: ConvergenceWarning: Stochastic Optimizer: Maximum iterations (200) reached and the optimization hasn't converged yet.\n",
      "  warnings.warn(\n"
     ]
    },
    {
     "name": "stdout",
     "output_type": "stream",
     "text": [
      "-------\n",
      "--- Processing 5_RF\n",
      "iter: 1\n",
      "iter: 2\n",
      "iter: 3\n",
      "iter: 4\n",
      "iter: 5\n",
      "iter: 6\n",
      "iter: 7\n",
      "iter: 8\n",
      "iter: 9\n",
      "iter: 10\n",
      "iter: 11\n",
      "iter: 12\n",
      "iter: 13\n",
      "iter: 14\n",
      "iter: 15\n",
      "iter: 16\n",
      "iter: 17\n",
      "iter: 18\n",
      "iter: 19\n",
      "iter: 20\n",
      "iter: 21\n",
      "iter: 22\n",
      "iter: 23\n",
      "iter: 24\n",
      "iter: 25\n",
      "-------\n",
      "--- Processing 5_GB\n",
      "iter: 1\n",
      "iter: 2\n",
      "iter: 3\n",
      "iter: 4\n",
      "iter: 5\n",
      "iter: 6\n",
      "iter: 7\n",
      "iter: 8\n",
      "iter: 9\n",
      "iter: 10\n",
      "iter: 11\n",
      "iter: 12\n",
      "iter: 13\n",
      "iter: 14\n",
      "iter: 15\n",
      "iter: 16\n",
      "iter: 17\n",
      "iter: 18\n",
      "iter: 19\n",
      "iter: 20\n",
      "iter: 21\n",
      "iter: 22\n",
      "iter: 23\n",
      "iter: 24\n",
      "iter: 25\n",
      "-------\n"
     ]
    }
   ],
   "source": [
    "full_df = multi_exp(l_algos_names=l_algos_names,\n",
    "                    l_algos=l_algos,\n",
    "                    mult_X_Y=mult_X_Y,\n",
    "                    l_kwargs=l_kwargs,\n",
    "                    l_metrics_names=l_metrics_names,\n",
    "                    num_iter=num_iter)"
   ]
  },
  {
   "cell_type": "code",
   "execution_count": 18,
   "metadata": {},
   "outputs": [
    {
     "data": {
      "text/html": [
       "<div>\n",
       "<style scoped>\n",
       "    .dataframe tbody tr th:only-of-type {\n",
       "        vertical-align: middle;\n",
       "    }\n",
       "\n",
       "    .dataframe tbody tr th {\n",
       "        vertical-align: top;\n",
       "    }\n",
       "\n",
       "    .dataframe thead th {\n",
       "        text-align: right;\n",
       "    }\n",
       "</style>\n",
       "<table border=\"1\" class=\"dataframe\">\n",
       "  <thead>\n",
       "    <tr style=\"text-align: right;\">\n",
       "      <th></th>\n",
       "      <th>alg_name</th>\n",
       "      <th>iter</th>\n",
       "      <th>rmse</th>\n",
       "      <th>r2</th>\n",
       "      <th>mae</th>\n",
       "    </tr>\n",
       "  </thead>\n",
       "  <tbody>\n",
       "    <tr>\n",
       "      <th>0</th>\n",
       "      <td>500_KAN</td>\n",
       "      <td>1</td>\n",
       "      <td>0.170453</td>\n",
       "      <td>0.923544</td>\n",
       "      <td>0.308077</td>\n",
       "    </tr>\n",
       "    <tr>\n",
       "      <th>1</th>\n",
       "      <td>500_KAN</td>\n",
       "      <td>2</td>\n",
       "      <td>0.188008</td>\n",
       "      <td>0.924614</td>\n",
       "      <td>0.315091</td>\n",
       "    </tr>\n",
       "    <tr>\n",
       "      <th>2</th>\n",
       "      <td>500_KAN</td>\n",
       "      <td>3</td>\n",
       "      <td>0.195467</td>\n",
       "      <td>0.921781</td>\n",
       "      <td>0.332320</td>\n",
       "    </tr>\n",
       "    <tr>\n",
       "      <th>3</th>\n",
       "      <td>500_KAN</td>\n",
       "      <td>4</td>\n",
       "      <td>0.132584</td>\n",
       "      <td>0.949010</td>\n",
       "      <td>0.281474</td>\n",
       "    </tr>\n",
       "    <tr>\n",
       "      <th>4</th>\n",
       "      <td>500_KAN</td>\n",
       "      <td>5</td>\n",
       "      <td>0.144570</td>\n",
       "      <td>0.939638</td>\n",
       "      <td>0.275084</td>\n",
       "    </tr>\n",
       "    <tr>\n",
       "      <th>...</th>\n",
       "      <td>...</td>\n",
       "      <td>...</td>\n",
       "      <td>...</td>\n",
       "      <td>...</td>\n",
       "      <td>...</td>\n",
       "    </tr>\n",
       "    <tr>\n",
       "      <th>195</th>\n",
       "      <td>5_GB</td>\n",
       "      <td>21</td>\n",
       "      <td>0.122070</td>\n",
       "      <td>0.951131</td>\n",
       "      <td>0.272301</td>\n",
       "    </tr>\n",
       "    <tr>\n",
       "      <th>196</th>\n",
       "      <td>5_GB</td>\n",
       "      <td>22</td>\n",
       "      <td>0.127524</td>\n",
       "      <td>0.951078</td>\n",
       "      <td>0.266599</td>\n",
       "    </tr>\n",
       "    <tr>\n",
       "      <th>197</th>\n",
       "      <td>5_GB</td>\n",
       "      <td>23</td>\n",
       "      <td>0.163647</td>\n",
       "      <td>0.932081</td>\n",
       "      <td>0.295245</td>\n",
       "    </tr>\n",
       "    <tr>\n",
       "      <th>198</th>\n",
       "      <td>5_GB</td>\n",
       "      <td>24</td>\n",
       "      <td>0.181779</td>\n",
       "      <td>0.918202</td>\n",
       "      <td>0.316071</td>\n",
       "    </tr>\n",
       "    <tr>\n",
       "      <th>199</th>\n",
       "      <td>5_GB</td>\n",
       "      <td>25</td>\n",
       "      <td>0.169757</td>\n",
       "      <td>0.938261</td>\n",
       "      <td>0.311390</td>\n",
       "    </tr>\n",
       "  </tbody>\n",
       "</table>\n",
       "<p>200 rows × 5 columns</p>\n",
       "</div>"
      ],
      "text/plain": [
       "    alg_name  iter      rmse        r2       mae\n",
       "0    500_KAN     1  0.170453  0.923544  0.308077\n",
       "1    500_KAN     2  0.188008  0.924614  0.315091\n",
       "2    500_KAN     3  0.195467  0.921781  0.332320\n",
       "3    500_KAN     4  0.132584  0.949010  0.281474\n",
       "4    500_KAN     5  0.144570  0.939638  0.275084\n",
       "..       ...   ...       ...       ...       ...\n",
       "195     5_GB    21  0.122070  0.951131  0.272301\n",
       "196     5_GB    22  0.127524  0.951078  0.266599\n",
       "197     5_GB    23  0.163647  0.932081  0.295245\n",
       "198     5_GB    24  0.181779  0.918202  0.316071\n",
       "199     5_GB    25  0.169757  0.938261  0.311390\n",
       "\n",
       "[200 rows x 5 columns]"
      ]
     },
     "execution_count": 18,
     "metadata": {},
     "output_type": "execute_result"
    }
   ],
   "source": [
    "full_df"
   ]
  },
  {
   "cell_type": "code",
   "execution_count": 19,
   "metadata": {},
   "outputs": [],
   "source": [
    "full_df.to_excel('full_metrics.xlsx')\n",
    "#pd.read_excel('full_metrics.xlsx').drop('Unnamed: 0', axis=1)"
   ]
  },
  {
   "cell_type": "code",
   "execution_count": 20,
   "metadata": {},
   "outputs": [
    {
     "data": {
      "text/html": [
       "<div>\n",
       "<style scoped>\n",
       "    .dataframe tbody tr th:only-of-type {\n",
       "        vertical-align: middle;\n",
       "    }\n",
       "\n",
       "    .dataframe tbody tr th {\n",
       "        vertical-align: top;\n",
       "    }\n",
       "\n",
       "    .dataframe thead tr th {\n",
       "        text-align: left;\n",
       "    }\n",
       "\n",
       "    .dataframe thead tr:last-of-type th {\n",
       "        text-align: right;\n",
       "    }\n",
       "</style>\n",
       "<table border=\"1\" class=\"dataframe\">\n",
       "  <thead>\n",
       "    <tr>\n",
       "      <th></th>\n",
       "      <th colspan=\"2\" halign=\"left\">rmse</th>\n",
       "      <th colspan=\"2\" halign=\"left\">r2</th>\n",
       "      <th colspan=\"2\" halign=\"left\">mae</th>\n",
       "    </tr>\n",
       "    <tr>\n",
       "      <th></th>\n",
       "      <th>mean</th>\n",
       "      <th>std</th>\n",
       "      <th>mean</th>\n",
       "      <th>std</th>\n",
       "      <th>mean</th>\n",
       "      <th>std</th>\n",
       "    </tr>\n",
       "    <tr>\n",
       "      <th>alg_name</th>\n",
       "      <th></th>\n",
       "      <th></th>\n",
       "      <th></th>\n",
       "      <th></th>\n",
       "      <th></th>\n",
       "      <th></th>\n",
       "    </tr>\n",
       "  </thead>\n",
       "  <tbody>\n",
       "    <tr>\n",
       "      <th>500_GB</th>\n",
       "      <td>0.229024</td>\n",
       "      <td>0.035870</td>\n",
       "      <td>0.906359</td>\n",
       "      <td>0.015556</td>\n",
       "      <td>0.366623</td>\n",
       "      <td>0.028747</td>\n",
       "    </tr>\n",
       "    <tr>\n",
       "      <th>500_KAN</th>\n",
       "      <td>0.181186</td>\n",
       "      <td>0.029910</td>\n",
       "      <td>0.925875</td>\n",
       "      <td>0.013506</td>\n",
       "      <td>0.319783</td>\n",
       "      <td>0.028280</td>\n",
       "    </tr>\n",
       "    <tr>\n",
       "      <th>500_MLP</th>\n",
       "      <td>1.515338</td>\n",
       "      <td>0.394456</td>\n",
       "      <td>0.380907</td>\n",
       "      <td>0.166678</td>\n",
       "      <td>0.981519</td>\n",
       "      <td>0.123861</td>\n",
       "    </tr>\n",
       "    <tr>\n",
       "      <th>500_RF</th>\n",
       "      <td>0.223663</td>\n",
       "      <td>0.038748</td>\n",
       "      <td>0.908481</td>\n",
       "      <td>0.017274</td>\n",
       "      <td>0.355509</td>\n",
       "      <td>0.027921</td>\n",
       "    </tr>\n",
       "    <tr>\n",
       "      <th>5_GB</th>\n",
       "      <td>0.169189</td>\n",
       "      <td>0.032629</td>\n",
       "      <td>0.930912</td>\n",
       "      <td>0.013644</td>\n",
       "      <td>0.300406</td>\n",
       "      <td>0.019115</td>\n",
       "    </tr>\n",
       "    <tr>\n",
       "      <th>5_KAN</th>\n",
       "      <td>0.118371</td>\n",
       "      <td>0.024763</td>\n",
       "      <td>0.951499</td>\n",
       "      <td>0.011249</td>\n",
       "      <td>0.251473</td>\n",
       "      <td>0.025528</td>\n",
       "    </tr>\n",
       "    <tr>\n",
       "      <th>5_MLP</th>\n",
       "      <td>0.256118</td>\n",
       "      <td>0.038250</td>\n",
       "      <td>0.895525</td>\n",
       "      <td>0.015454</td>\n",
       "      <td>0.403326</td>\n",
       "      <td>0.035079</td>\n",
       "    </tr>\n",
       "    <tr>\n",
       "      <th>5_RF</th>\n",
       "      <td>0.188030</td>\n",
       "      <td>0.041634</td>\n",
       "      <td>0.923181</td>\n",
       "      <td>0.017504</td>\n",
       "      <td>0.292365</td>\n",
       "      <td>0.024603</td>\n",
       "    </tr>\n",
       "  </tbody>\n",
       "</table>\n",
       "</div>"
      ],
      "text/plain": [
       "              rmse                  r2                 mae          \n",
       "              mean       std      mean       std      mean       std\n",
       "alg_name                                                            \n",
       "500_GB    0.229024  0.035870  0.906359  0.015556  0.366623  0.028747\n",
       "500_KAN   0.181186  0.029910  0.925875  0.013506  0.319783  0.028280\n",
       "500_MLP   1.515338  0.394456  0.380907  0.166678  0.981519  0.123861\n",
       "500_RF    0.223663  0.038748  0.908481  0.017274  0.355509  0.027921\n",
       "5_GB      0.169189  0.032629  0.930912  0.013644  0.300406  0.019115\n",
       "5_KAN     0.118371  0.024763  0.951499  0.011249  0.251473  0.025528\n",
       "5_MLP     0.256118  0.038250  0.895525  0.015454  0.403326  0.035079\n",
       "5_RF      0.188030  0.041634  0.923181  0.017504  0.292365  0.024603"
      ]
     },
     "execution_count": 20,
     "metadata": {},
     "output_type": "execute_result"
    }
   ],
   "source": [
    "aggr_df = full_df.groupby(['alg_name']).agg([\"mean\", \"std\"]).drop(['iter'], axis=1)\n",
    "aggr_df.to_excel('aggr_metrics.xlsx')\n",
    "aggr_df"
   ]
  },
  {
   "cell_type": "code",
   "execution_count": null,
   "metadata": {},
   "outputs": [],
   "source": []
  }
 ],
 "metadata": {
  "kernelspec": {
   "display_name": ".venv",
   "language": "python",
   "name": "python3"
  },
  "language_info": {
   "codemirror_mode": {
    "name": "ipython",
    "version": 3
   },
   "file_extension": ".py",
   "mimetype": "text/x-python",
   "name": "python",
   "nbconvert_exporter": "python",
   "pygments_lexer": "ipython3",
   "version": "3.9.7"
  }
 },
 "nbformat": 4,
 "nbformat_minor": 2
}
