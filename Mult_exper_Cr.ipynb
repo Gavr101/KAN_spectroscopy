{
 "cells": [
  {
   "cell_type": "code",
   "execution_count": 1,
   "metadata": {},
   "outputs": [],
   "source": [
    "import os\n",
    "import sys\n",
    "import numpy as np\n",
    "import pandas as pd\n",
    "from copy import deepcopy\n",
    "from tqdm import tqdm\n",
    "\n",
    "import matplotlib.pyplot as plt\n",
    "import plotly\n",
    "import plotly.graph_objs as go\n",
    "import plotly.express as px\n",
    "from plotly.subplots import make_subplots\n",
    "import seaborn as sns\n",
    "\n",
    "from sklearn.model_selection import train_test_split\n",
    "from sklearn.preprocessing import StandardScaler\n",
    "from sklearn.neural_network import MLPRegressor\n",
    "from sklearn.ensemble import RandomForestRegressor, GradientBoostingRegressor\n",
    "from sklearn.metrics import mean_squared_error, r2_score, mean_absolute_error\n",
    "from sklearn.model_selection import GridSearchCV, RandomizedSearchCV\n",
    "\n",
    "import torch\n",
    "from kan import KAN\n",
    "\n",
    "from tqdm import tqdm"
   ]
  },
  {
   "cell_type": "code",
   "execution_count": 2,
   "metadata": {},
   "outputs": [],
   "source": [
    "from raw_data_processing import get_x, get_y, get_wavelength\n",
    "from tools import JSON_Read, plotly_multi_scatter, get_all_sqz_input, KAN_es"
   ]
  },
  {
   "cell_type": "code",
   "execution_count": 3,
   "metadata": {},
   "outputs": [],
   "source": [
    "SCRIPT_DIR = os.path.abspath('')"
   ]
  },
  {
   "cell_type": "markdown",
   "metadata": {},
   "source": [
    "## Loading data"
   ]
  },
  {
   "cell_type": "code",
   "execution_count": 4,
   "metadata": {},
   "outputs": [],
   "source": [
    "d_config = JSON_Read(\"\", \"json_config.txt\")\n",
    "\n",
    "EXCITE_WAVE_LENGTH = d_config['EXCITE_WAVE_LENGTH']\n",
    "PREDICT_IONS = 'Cr'#d_config['PREDICT_IONS']\n",
    "SPEC_FOLDER = d_config['SPEC_FOLDER']\n",
    "\n",
    "TRAIN_TEST_RATIO = d_config['TRAIN_TEST_RATIO']\n",
    "VALIDATION_TRAIN_RATIO = d_config['VALIDATION_TRAIN_RATIO']\n",
    "N_ITER_NO_CHANGE = d_config['N_ITER_NO_CHANGE']\n",
    "\n",
    "HIDDEN_LAYER_SIZES = d_config['HIDDEN_LAYER_SIZES']\n",
    "ACTIVATION = d_config['ACTIVATION']\n",
    "SOLVER = d_config['SOLVER']\n",
    "MAX_ITER = d_config['MAX_ITER']\n",
    "TOL = d_config['TOL']"
   ]
  },
  {
   "cell_type": "code",
   "execution_count": 5,
   "metadata": {},
   "outputs": [],
   "source": [
    "x = get_x(wave_length=EXCITE_WAVE_LENGTH, spec_file=\"\"+SPEC_FOLDER)\n",
    "y = get_y(l_ions=PREDICT_IONS, spec_file=\"\"+SPEC_FOLDER)"
   ]
  },
  {
   "cell_type": "markdown",
   "metadata": {},
   "source": [
    "# Squeeze input data"
   ]
  },
  {
   "cell_type": "code",
   "execution_count": 6,
   "metadata": {},
   "outputs": [],
   "source": [
    "l_wavelenth = get_wavelength(spec_file=\"\"+SPEC_FOLDER)"
   ]
  },
  {
   "cell_type": "code",
   "execution_count": 7,
   "metadata": {},
   "outputs": [],
   "source": [
    "x_matrix, y_matrix = np.broadcast_to(l_wavelenth, (len(x), len(l_wavelenth))), x.to_numpy()\n",
    "\n",
    "x_sqz = get_all_sqz_input(x_matrix, y_matrix)"
   ]
  },
  {
   "cell_type": "code",
   "execution_count": 22,
   "metadata": {},
   "outputs": [],
   "source": [
    "def alg_KAN_es(x, y, seed = None, num_hn=1,\n",
    "               K=3, GRID = 3,\n",
    "               lamb=0., lamb_l1=1., lamb_entropy=2.,\n",
    "               steps=200, tol=0.001, n_iter_no_change=10):\n",
    "    \n",
    "    x_train, x_test, y_train, y_test = train_test_split(x, y, \n",
    "                                                        train_size=TRAIN_TEST_RATIO,\n",
    "                                                        random_state=seed)\n",
    "\n",
    "    x_val, x_train, y_val, y_train = train_test_split(x_train, y_train, \n",
    "                                                      train_size=VALIDATION_TRAIN_RATIO, \n",
    "                                                      random_state=seed)\n",
    "    scaler = StandardScaler()\n",
    "    x_train = scaler.fit_transform(x_train)\n",
    "    x_val = scaler.transform(x_val)\n",
    "    x_test = scaler.transform(x_test)\n",
    "\n",
    "    tc_x_train = torch.from_numpy(x_train)\n",
    "    tc_y_train = torch.from_numpy(y_train.reshape([-1,1]))\n",
    "    tc_x_val = torch.from_numpy(x_val)\n",
    "    tc_y_val = torch.from_numpy(y_val).reshape([-1,1])\n",
    "    tc_x_test = torch.from_numpy(x_test)\n",
    "    tc_y_test = torch.from_numpy(y_test).reshape([-1,1])\n",
    "\n",
    "    dataset_3 = {'train_input': tc_x_train,\n",
    "                 'train_label': tc_y_train,\n",
    "                 'val_input': tc_x_val,\n",
    "                 'val_label': tc_y_val,\n",
    "                 'test_input': tc_x_test,\n",
    "                 'test_label': tc_y_test}\n",
    "    \n",
    "    INPUT_SHAPE = tc_x_test.shape[1]\n",
    "\n",
    "    model_es = KAN_es(width=[INPUT_SHAPE, num_hn, 1], grid=GRID, k=K, seed=seed)\n",
    "    result_es = model_es.train_es(dataset_3, \n",
    "                                  tol=tol, \n",
    "                                  n_iter_no_change=n_iter_no_change,\n",
    "                                  opt=\"LBFGS\", steps=steps, \n",
    "                                  lamb=lamb,\n",
    "                                  lamb_l1=lamb_l1,\n",
    "                                  lamb_entropy=lamb_entropy\n",
    "                                  )\n",
    "    \n",
    "    pred_test = model_es(dataset_3['test_input']).cpu().detach().numpy().ravel()\n",
    "    rmse = mean_squared_error(y_test, pred_test)\n",
    "    r2 = r2_score(y_test, pred_test)\n",
    "    mae = mean_absolute_error(y_test, pred_test)\n",
    "\n",
    "    return [rmse, r2, mae]"
   ]
  },
  {
   "cell_type": "code",
   "execution_count": 9,
   "metadata": {},
   "outputs": [],
   "source": [
    "def alg_skl_model(x, y, class_model, model_kwargs, seed = None):\n",
    "    \n",
    "    x_train, x_test, y_train, y_test = train_test_split(x, y, \n",
    "                                                        train_size=TRAIN_TEST_RATIO,\n",
    "                                                        random_state=seed)\n",
    "    \n",
    "    scaler = StandardScaler()\n",
    "    x_train = scaler.fit_transform(x_train)\n",
    "    x_test = scaler.transform(x_test)\n",
    "\n",
    "    #print(model_kwargs)\n",
    "    model = class_model(random_state=seed, **model_kwargs)\n",
    "    model.fit(x_train, y_train)\n",
    "\n",
    "    pred_test = model.predict(x_test)\n",
    "    rmse = mean_squared_error(y_test, pred_test)\n",
    "    r2 = r2_score(y_test, pred_test)\n",
    "    mae = mean_absolute_error(y_test, pred_test)\n",
    "\n",
    "    return [rmse, r2, mae]"
   ]
  },
  {
   "cell_type": "code",
   "execution_count": 10,
   "metadata": {},
   "outputs": [
    {
     "data": {
      "text/plain": [
       "64"
      ]
     },
     "execution_count": 10,
     "metadata": {},
     "output_type": "execute_result"
    }
   ],
   "source": [
    "HIDDEN_LAYER_SIZES"
   ]
  },
  {
   "cell_type": "code",
   "execution_count": 11,
   "metadata": {},
   "outputs": [],
   "source": [
    "MLP_model_kwargs = {'hidden_layer_sizes': HIDDEN_LAYER_SIZES,\n",
    "                  'activation': ACTIVATION,\n",
    "                  'solver': SOLVER,\n",
    "                  'early_stopping': True,\n",
    "                  'validation_fraction': VALIDATION_TRAIN_RATIO,\n",
    "                  'n_iter_no_change': N_ITER_NO_CHANGE,\n",
    "                  'learning_rate_init': 0.001,\n",
    "                  'learning_rate': 'adaptive',\n",
    "                  'max_iter': MAX_ITER,\n",
    "                  'tol': TOL}\n",
    "\n",
    "GB_model_kwargs = {'validation_fraction': VALIDATION_TRAIN_RATIO,\n",
    "                   'n_iter_no_change': N_ITER_NO_CHANGE}\n",
    "\n",
    "RF_model_kwargs = {}"
   ]
  },
  {
   "cell_type": "code",
   "execution_count": 12,
   "metadata": {},
   "outputs": [],
   "source": [
    "def multi_exp(l_algos_names,\n",
    "              l_algos,\n",
    "              mult_X_Y,\n",
    "              l_kwargs,\n",
    "              l_metrics_names,\n",
    "              num_iter):\n",
    "    ''' Function, that process algos(X, Y) and returns df of their metrics. \n",
    "    '''\n",
    "    res_list = []\n",
    "\n",
    "    for alg, (x, y), kwargs, alg_name in zip(l_algos, mult_X_Y, l_kwargs, l_algos_names):\n",
    "        print(f'--- Processing {alg_name}')\n",
    "\n",
    "        for i in range(1, num_iter+1):\n",
    "            print(f'iter: {i}')\n",
    "            #print(kwargs)\n",
    "            l_metrics = alg(x, y, seed=i, **kwargs)\n",
    "            res_list.append([alg_name, i]+l_metrics)\n",
    "        print('-------')\n",
    "\n",
    "    return pd.DataFrame(res_list, columns=['alg_name', 'iter']+l_metrics_names)"
   ]
  },
  {
   "cell_type": "code",
   "execution_count": 13,
   "metadata": {},
   "outputs": [],
   "source": [
    "l_algos_names=['500_KAN', '500_MLP', '500_RF', '500_GB',\n",
    "               '5_KAN', '5_MLP', '5_RF', '5_GB']\n",
    "\n",
    "l_algos=[alg_KAN_es, alg_skl_model, alg_skl_model, alg_skl_model,\n",
    "         alg_KAN_es, alg_skl_model, alg_skl_model, alg_skl_model]\n",
    "\n",
    "mult_X_Y=[(x, y), (x, y), (x, y), (x, y), \n",
    "          (x_sqz, y), (x_sqz, y), (x_sqz, y), (x_sqz, y)]\n",
    "\n",
    "l_kwargs=[{},\n",
    "          {'class_model': MLPRegressor,'model_kwargs': MLP_model_kwargs},\n",
    "          {'class_model': RandomForestRegressor,'model_kwargs': RF_model_kwargs},\n",
    "          {'class_model': GradientBoostingRegressor,'model_kwargs': GB_model_kwargs},\n",
    "          {},\n",
    "          {'class_model': MLPRegressor,'model_kwargs': MLP_model_kwargs},\n",
    "          {'class_model': RandomForestRegressor,'model_kwargs': RF_model_kwargs},\n",
    "          {'class_model': GradientBoostingRegressor,'model_kwargs': GB_model_kwargs},]\n",
    "\n",
    "l_metrics_names=['rmse', 'r2', 'mae']\n",
    "\n",
    "num_iter=100"
   ]
  },
  {
   "cell_type": "code",
   "execution_count": 14,
   "metadata": {},
   "outputs": [
    {
     "data": {
      "text/plain": [
       "\"\\nl_algos_names=['500_MLP', '500_RF', '500_GB',\\n               '5_MLP', '5_RF', '5_GB']\\n\\nl_algos=[alg_skl_model, alg_skl_model, alg_skl_model,\\n         alg_skl_model, alg_skl_model, alg_skl_model]\\n\\nmult_X_Y=[(x, y), (x, y), (x, y), \\n          (x_sqz, y), (x_sqz, y), (x_sqz, y)]\\n\\nl_kwargs=[{'class_model': MLPRegressor,'model_kwargs': MLP_model_kwargs},\\n          {'class_model': RandomForestRegressor,'model_kwargs': RF_model_kwargs},\\n          {'class_model': GradientBoostingRegressor,'model_kwargs': GB_model_kwargs},\\n          {'class_model': MLPRegressor,'model_kwargs': MLP_model_kwargs},\\n          {'class_model': RandomForestRegressor,'model_kwargs': RF_model_kwargs},\\n          {'class_model': GradientBoostingRegressor,'model_kwargs': GB_model_kwargs},]\\n\\nl_metrics_names=['rmse', 'r2', 'mae']\\n\\nnum_iter=3\\n\""
      ]
     },
     "execution_count": 14,
     "metadata": {},
     "output_type": "execute_result"
    }
   ],
   "source": [
    "'''\n",
    "l_algos_names=['500_MLP', '500_RF', '500_GB',\n",
    "               '5_MLP', '5_RF', '5_GB']\n",
    "\n",
    "l_algos=[alg_skl_model, alg_skl_model, alg_skl_model,\n",
    "         alg_skl_model, alg_skl_model, alg_skl_model]\n",
    "\n",
    "mult_X_Y=[(x, y), (x, y), (x, y), \n",
    "          (x_sqz, y), (x_sqz, y), (x_sqz, y)]\n",
    "\n",
    "l_kwargs=[{'class_model': MLPRegressor,'model_kwargs': MLP_model_kwargs},\n",
    "          {'class_model': RandomForestRegressor,'model_kwargs': RF_model_kwargs},\n",
    "          {'class_model': GradientBoostingRegressor,'model_kwargs': GB_model_kwargs},\n",
    "          {'class_model': MLPRegressor,'model_kwargs': MLP_model_kwargs},\n",
    "          {'class_model': RandomForestRegressor,'model_kwargs': RF_model_kwargs},\n",
    "          {'class_model': GradientBoostingRegressor,'model_kwargs': GB_model_kwargs},]\n",
    "\n",
    "l_metrics_names=['rmse', 'r2', 'mae']\n",
    "\n",
    "num_iter=3\n",
    "'''"
   ]
  },
  {
   "cell_type": "code",
   "execution_count": 15,
   "metadata": {},
   "outputs": [],
   "source": [
    "l_algos_names=['500_MLP',\n",
    "               '5_MLP']\n",
    "\n",
    "l_algos=[alg_skl_model,\n",
    "         alg_skl_model]\n",
    "\n",
    "mult_X_Y=[(x, y), \n",
    "          (x_sqz, y)]\n",
    "\n",
    "l_kwargs=[{'class_model': MLPRegressor,'model_kwargs': MLP_model_kwargs},\n",
    "          {'class_model': MLPRegressor,'model_kwargs': MLP_model_kwargs}]\n",
    "\n",
    "l_metrics_names=['rmse', 'r2', 'mae']\n",
    "\n",
    "num_iter=100"
   ]
  },
  {
   "cell_type": "code",
   "execution_count": 23,
   "metadata": {},
   "outputs": [],
   "source": [
    "l_algos_names=['500_KAN_2hn','500_KAN_5hn',\n",
    "               '5_KAN_2hn','5_KAN_5hn']\n",
    "\n",
    "l_algos=[alg_KAN_es, alg_KAN_es,\n",
    "         alg_KAN_es, alg_KAN_es]\n",
    "\n",
    "mult_X_Y=[(x, y), (x, y),\n",
    "          (x_sqz, y), (x_sqz, y)]\n",
    "\n",
    "l_kwargs=[{'num_hn': 2}, {'num_hn': 5},\n",
    "          {'num_hn': 2}, {'num_hn': 5}]\n",
    "\n",
    "l_metrics_names=['rmse', 'r2', 'mae']\n",
    "\n",
    "num_iter=100"
   ]
  },
  {
   "cell_type": "code",
   "execution_count": 24,
   "metadata": {},
   "outputs": [
    {
     "name": "stdout",
     "output_type": "stream",
     "text": [
      "--- Processing 500_KAN_1hn\n",
      "iter: 1\n"
     ]
    },
    {
     "name": "stderr",
     "output_type": "stream",
     "text": [
      "trn_ls: 1.60e-01 | vl_ls: 4.41e-01 | e_stop: 10/10 | tst_ls: 4.81e-01 | reg: 4.47e+01 :   8%|▎   | 17/200 [03:05<33:15, 10.91s/it]\n"
     ]
    },
    {
     "name": "stdout",
     "output_type": "stream",
     "text": [
      "Early stopping criteria raised\n",
      "iter: 2\n"
     ]
    },
    {
     "name": "stderr",
     "output_type": "stream",
     "text": [
      "description:   0%|                                                                                        | 0/200 [00:05<?, ?it/s]\n"
     ]
    },
    {
     "ename": "KeyboardInterrupt",
     "evalue": "",
     "output_type": "error",
     "traceback": [
      "\u001b[1;31m---------------------------------------------------------------------------\u001b[0m",
      "\u001b[1;31mKeyboardInterrupt\u001b[0m                         Traceback (most recent call last)",
      "Cell \u001b[1;32mIn[24], line 1\u001b[0m\n\u001b[1;32m----> 1\u001b[0m full_df \u001b[38;5;241m=\u001b[39m \u001b[43mmulti_exp\u001b[49m\u001b[43m(\u001b[49m\u001b[43ml_algos_names\u001b[49m\u001b[38;5;241;43m=\u001b[39;49m\u001b[43ml_algos_names\u001b[49m\u001b[43m,\u001b[49m\n\u001b[0;32m      2\u001b[0m \u001b[43m                    \u001b[49m\u001b[43ml_algos\u001b[49m\u001b[38;5;241;43m=\u001b[39;49m\u001b[43ml_algos\u001b[49m\u001b[43m,\u001b[49m\n\u001b[0;32m      3\u001b[0m \u001b[43m                    \u001b[49m\u001b[43mmult_X_Y\u001b[49m\u001b[38;5;241;43m=\u001b[39;49m\u001b[43mmult_X_Y\u001b[49m\u001b[43m,\u001b[49m\n\u001b[0;32m      4\u001b[0m \u001b[43m                    \u001b[49m\u001b[43ml_kwargs\u001b[49m\u001b[38;5;241;43m=\u001b[39;49m\u001b[43ml_kwargs\u001b[49m\u001b[43m,\u001b[49m\n\u001b[0;32m      5\u001b[0m \u001b[43m                    \u001b[49m\u001b[43ml_metrics_names\u001b[49m\u001b[38;5;241;43m=\u001b[39;49m\u001b[43ml_metrics_names\u001b[49m\u001b[43m,\u001b[49m\n\u001b[0;32m      6\u001b[0m \u001b[43m                    \u001b[49m\u001b[43mnum_iter\u001b[49m\u001b[38;5;241;43m=\u001b[39;49m\u001b[43mnum_iter\u001b[49m\u001b[43m)\u001b[49m\n",
      "Cell \u001b[1;32mIn[12], line 17\u001b[0m, in \u001b[0;36mmulti_exp\u001b[1;34m(l_algos_names, l_algos, mult_X_Y, l_kwargs, l_metrics_names, num_iter)\u001b[0m\n\u001b[0;32m     15\u001b[0m     \u001b[38;5;28mprint\u001b[39m(\u001b[38;5;124mf\u001b[39m\u001b[38;5;124m'\u001b[39m\u001b[38;5;124miter: \u001b[39m\u001b[38;5;132;01m{\u001b[39;00mi\u001b[38;5;132;01m}\u001b[39;00m\u001b[38;5;124m'\u001b[39m)\n\u001b[0;32m     16\u001b[0m     \u001b[38;5;66;03m#print(kwargs)\u001b[39;00m\n\u001b[1;32m---> 17\u001b[0m     l_metrics \u001b[38;5;241m=\u001b[39m alg(x, y, seed\u001b[38;5;241m=\u001b[39mi, \u001b[38;5;241m*\u001b[39m\u001b[38;5;241m*\u001b[39mkwargs)\n\u001b[0;32m     18\u001b[0m     res_list\u001b[38;5;241m.\u001b[39mappend([alg_name, i]\u001b[38;5;241m+\u001b[39ml_metrics)\n\u001b[0;32m     19\u001b[0m \u001b[38;5;28mprint\u001b[39m(\u001b[38;5;124m'\u001b[39m\u001b[38;5;124m-------\u001b[39m\u001b[38;5;124m'\u001b[39m)\n",
      "Cell \u001b[1;32mIn[22], line 35\u001b[0m, in \u001b[0;36malg_KAN_es\u001b[1;34m(x, y, seed, num_hn, K, GRID, lamb, lamb_l1, lamb_entropy, steps, tol, n_iter_no_change)\u001b[0m\n\u001b[0;32m     32\u001b[0m INPUT_SHAPE \u001b[38;5;241m=\u001b[39m tc_x_test\u001b[38;5;241m.\u001b[39mshape[\u001b[38;5;241m1\u001b[39m]\n\u001b[0;32m     34\u001b[0m model_es \u001b[38;5;241m=\u001b[39m KAN_es(width\u001b[38;5;241m=\u001b[39m[INPUT_SHAPE, num_hn, \u001b[38;5;241m1\u001b[39m], grid\u001b[38;5;241m=\u001b[39mGRID, k\u001b[38;5;241m=\u001b[39mK, seed\u001b[38;5;241m=\u001b[39mseed)\n\u001b[1;32m---> 35\u001b[0m result_es \u001b[38;5;241m=\u001b[39m \u001b[43mmodel_es\u001b[49m\u001b[38;5;241;43m.\u001b[39;49m\u001b[43mtrain_es\u001b[49m\u001b[43m(\u001b[49m\u001b[43mdataset_3\u001b[49m\u001b[43m,\u001b[49m\u001b[43m \u001b[49m\n\u001b[0;32m     36\u001b[0m \u001b[43m                              \u001b[49m\u001b[43mtol\u001b[49m\u001b[38;5;241;43m=\u001b[39;49m\u001b[43mtol\u001b[49m\u001b[43m,\u001b[49m\u001b[43m \u001b[49m\n\u001b[0;32m     37\u001b[0m \u001b[43m                              \u001b[49m\u001b[43mn_iter_no_change\u001b[49m\u001b[38;5;241;43m=\u001b[39;49m\u001b[43mn_iter_no_change\u001b[49m\u001b[43m,\u001b[49m\n\u001b[0;32m     38\u001b[0m \u001b[43m                              \u001b[49m\u001b[43mopt\u001b[49m\u001b[38;5;241;43m=\u001b[39;49m\u001b[38;5;124;43m\"\u001b[39;49m\u001b[38;5;124;43mLBFGS\u001b[39;49m\u001b[38;5;124;43m\"\u001b[39;49m\u001b[43m,\u001b[49m\u001b[43m \u001b[49m\u001b[43msteps\u001b[49m\u001b[38;5;241;43m=\u001b[39;49m\u001b[43msteps\u001b[49m\u001b[43m,\u001b[49m\u001b[43m \u001b[49m\n\u001b[0;32m     39\u001b[0m \u001b[43m                              \u001b[49m\u001b[43mlamb\u001b[49m\u001b[38;5;241;43m=\u001b[39;49m\u001b[43mlamb\u001b[49m\u001b[43m,\u001b[49m\n\u001b[0;32m     40\u001b[0m \u001b[43m                              \u001b[49m\u001b[43mlamb_l1\u001b[49m\u001b[38;5;241;43m=\u001b[39;49m\u001b[43mlamb_l1\u001b[49m\u001b[43m,\u001b[49m\n\u001b[0;32m     41\u001b[0m \u001b[43m                              \u001b[49m\u001b[43mlamb_entropy\u001b[49m\u001b[38;5;241;43m=\u001b[39;49m\u001b[43mlamb_entropy\u001b[49m\n\u001b[0;32m     42\u001b[0m \u001b[43m                              \u001b[49m\u001b[43m)\u001b[49m\n\u001b[0;32m     44\u001b[0m pred_test \u001b[38;5;241m=\u001b[39m model_es(dataset_3[\u001b[38;5;124m'\u001b[39m\u001b[38;5;124mtest_input\u001b[39m\u001b[38;5;124m'\u001b[39m])\u001b[38;5;241m.\u001b[39mcpu()\u001b[38;5;241m.\u001b[39mdetach()\u001b[38;5;241m.\u001b[39mnumpy()\u001b[38;5;241m.\u001b[39mravel()\n\u001b[0;32m     45\u001b[0m rmse \u001b[38;5;241m=\u001b[39m mean_squared_error(y_test, pred_test)\n",
      "File \u001b[1;32mc:\\Users\\Gavriil\\VS_projects\\KAN_spectroscopy\\tools.py:258\u001b[0m, in \u001b[0;36mKAN_es.train_es\u001b[1;34m(self, dataset, tol, n_iter_no_change, opt, steps, log, lamb, lamb_l1, lamb_entropy, lamb_coef, lamb_coefdiff, update_grid, grid_update_num, loss_fn, lr, stop_grid_update_step, batch, small_mag_threshold, small_reg_factor, metrics, sglr_avoid, save_fig, in_vars, out_vars, beta, save_fig_freq, img_folder, device)\u001b[0m\n\u001b[0;32m    255\u001b[0m     \u001b[38;5;28mself\u001b[39m\u001b[38;5;241m.\u001b[39mupdate_grid_from_samples(dataset[\u001b[38;5;124m'\u001b[39m\u001b[38;5;124mtrain_input\u001b[39m\u001b[38;5;124m'\u001b[39m][train_id]\u001b[38;5;241m.\u001b[39mto(device))\n\u001b[0;32m    257\u001b[0m \u001b[38;5;28;01mif\u001b[39;00m opt \u001b[38;5;241m==\u001b[39m \u001b[38;5;124m\"\u001b[39m\u001b[38;5;124mLBFGS\u001b[39m\u001b[38;5;124m\"\u001b[39m:\n\u001b[1;32m--> 258\u001b[0m     \u001b[43moptimizer\u001b[49m\u001b[38;5;241;43m.\u001b[39;49m\u001b[43mstep\u001b[49m\u001b[43m(\u001b[49m\u001b[43mclosure\u001b[49m\u001b[43m)\u001b[49m\n\u001b[0;32m    260\u001b[0m \u001b[38;5;28;01mif\u001b[39;00m opt \u001b[38;5;241m==\u001b[39m \u001b[38;5;124m\"\u001b[39m\u001b[38;5;124mAdam\u001b[39m\u001b[38;5;124m\"\u001b[39m:\n\u001b[0;32m    261\u001b[0m     pred \u001b[38;5;241m=\u001b[39m \u001b[38;5;28mself\u001b[39m\u001b[38;5;241m.\u001b[39mforward(dataset[\u001b[38;5;124m'\u001b[39m\u001b[38;5;124mtrain_input\u001b[39m\u001b[38;5;124m'\u001b[39m][train_id]\u001b[38;5;241m.\u001b[39mto(device))\n",
      "File \u001b[1;32mc:\\Users\\Gavriil\\VS_projects\\KAN_spectroscopy\\.venv\\lib\\site-packages\\torch\\optim\\optimizer.py:391\u001b[0m, in \u001b[0;36mOptimizer.profile_hook_step.<locals>.wrapper\u001b[1;34m(*args, **kwargs)\u001b[0m\n\u001b[0;32m    386\u001b[0m         \u001b[38;5;28;01melse\u001b[39;00m:\n\u001b[0;32m    387\u001b[0m             \u001b[38;5;28;01mraise\u001b[39;00m \u001b[38;5;167;01mRuntimeError\u001b[39;00m(\n\u001b[0;32m    388\u001b[0m                 \u001b[38;5;124mf\u001b[39m\u001b[38;5;124m\"\u001b[39m\u001b[38;5;132;01m{\u001b[39;00mfunc\u001b[38;5;132;01m}\u001b[39;00m\u001b[38;5;124m must return None or a tuple of (new_args, new_kwargs), but got \u001b[39m\u001b[38;5;132;01m{\u001b[39;00mresult\u001b[38;5;132;01m}\u001b[39;00m\u001b[38;5;124m.\u001b[39m\u001b[38;5;124m\"\u001b[39m\n\u001b[0;32m    389\u001b[0m             )\n\u001b[1;32m--> 391\u001b[0m out \u001b[38;5;241m=\u001b[39m func(\u001b[38;5;241m*\u001b[39margs, \u001b[38;5;241m*\u001b[39m\u001b[38;5;241m*\u001b[39mkwargs)\n\u001b[0;32m    392\u001b[0m \u001b[38;5;28mself\u001b[39m\u001b[38;5;241m.\u001b[39m_optimizer_step_code()\n\u001b[0;32m    394\u001b[0m \u001b[38;5;66;03m# call optimizer step post hooks\u001b[39;00m\n",
      "File \u001b[1;32mc:\\Users\\Gavriil\\VS_projects\\KAN_spectroscopy\\.venv\\lib\\site-packages\\torch\\utils\\_contextlib.py:115\u001b[0m, in \u001b[0;36mcontext_decorator.<locals>.decorate_context\u001b[1;34m(*args, **kwargs)\u001b[0m\n\u001b[0;32m    112\u001b[0m \u001b[38;5;129m@functools\u001b[39m\u001b[38;5;241m.\u001b[39mwraps(func)\n\u001b[0;32m    113\u001b[0m \u001b[38;5;28;01mdef\u001b[39;00m \u001b[38;5;21mdecorate_context\u001b[39m(\u001b[38;5;241m*\u001b[39margs, \u001b[38;5;241m*\u001b[39m\u001b[38;5;241m*\u001b[39mkwargs):\n\u001b[0;32m    114\u001b[0m     \u001b[38;5;28;01mwith\u001b[39;00m ctx_factory():\n\u001b[1;32m--> 115\u001b[0m         \u001b[38;5;28;01mreturn\u001b[39;00m func(\u001b[38;5;241m*\u001b[39margs, \u001b[38;5;241m*\u001b[39m\u001b[38;5;241m*\u001b[39mkwargs)\n",
      "File \u001b[1;32mc:\\Users\\Gavriil\\VS_projects\\KAN_spectroscopy\\.venv\\lib\\site-packages\\kan\\LBFGS.py:433\u001b[0m, in \u001b[0;36mLBFGS.step\u001b[1;34m(self, closure)\u001b[0m\n\u001b[0;32m    430\u001b[0m     \u001b[38;5;28;01mdef\u001b[39;00m \u001b[38;5;21mobj_func\u001b[39m(x, t, d):\n\u001b[0;32m    431\u001b[0m         \u001b[38;5;28;01mreturn\u001b[39;00m \u001b[38;5;28mself\u001b[39m\u001b[38;5;241m.\u001b[39m_directional_evaluate(closure, x, t, d)\n\u001b[1;32m--> 433\u001b[0m     loss, flat_grad, t, ls_func_evals \u001b[38;5;241m=\u001b[39m \u001b[43m_strong_wolfe\u001b[49m\u001b[43m(\u001b[49m\n\u001b[0;32m    434\u001b[0m \u001b[43m        \u001b[49m\u001b[43mobj_func\u001b[49m\u001b[43m,\u001b[49m\u001b[43m \u001b[49m\u001b[43mx_init\u001b[49m\u001b[43m,\u001b[49m\u001b[43m \u001b[49m\u001b[43mt\u001b[49m\u001b[43m,\u001b[49m\u001b[43m \u001b[49m\u001b[43md\u001b[49m\u001b[43m,\u001b[49m\u001b[43m \u001b[49m\u001b[43mloss\u001b[49m\u001b[43m,\u001b[49m\u001b[43m \u001b[49m\u001b[43mflat_grad\u001b[49m\u001b[43m,\u001b[49m\u001b[43m \u001b[49m\u001b[43mgtd\u001b[49m\u001b[43m)\u001b[49m\n\u001b[0;32m    435\u001b[0m \u001b[38;5;28mself\u001b[39m\u001b[38;5;241m.\u001b[39m_add_grad(t, d)\n\u001b[0;32m    436\u001b[0m opt_cond \u001b[38;5;241m=\u001b[39m flat_grad\u001b[38;5;241m.\u001b[39mabs()\u001b[38;5;241m.\u001b[39mmax() \u001b[38;5;241m<\u001b[39m\u001b[38;5;241m=\u001b[39m tolerance_grad\n",
      "File \u001b[1;32mc:\\Users\\Gavriil\\VS_projects\\KAN_spectroscopy\\.venv\\lib\\site-packages\\kan\\LBFGS.py:50\u001b[0m, in \u001b[0;36m_strong_wolfe\u001b[1;34m(obj_func, x, t, d, f, g, gtd, c1, c2, tolerance_change, max_ls)\u001b[0m\n\u001b[0;32m     48\u001b[0m g \u001b[38;5;241m=\u001b[39m g\u001b[38;5;241m.\u001b[39mclone(memory_format\u001b[38;5;241m=\u001b[39mtorch\u001b[38;5;241m.\u001b[39mcontiguous_format)\n\u001b[0;32m     49\u001b[0m \u001b[38;5;66;03m# evaluate objective and gradient using initial step\u001b[39;00m\n\u001b[1;32m---> 50\u001b[0m f_new, g_new \u001b[38;5;241m=\u001b[39m \u001b[43mobj_func\u001b[49m\u001b[43m(\u001b[49m\u001b[43mx\u001b[49m\u001b[43m,\u001b[49m\u001b[43m \u001b[49m\u001b[43mt\u001b[49m\u001b[43m,\u001b[49m\u001b[43m \u001b[49m\u001b[43md\u001b[49m\u001b[43m)\u001b[49m\n\u001b[0;32m     51\u001b[0m ls_func_evals \u001b[38;5;241m=\u001b[39m \u001b[38;5;241m1\u001b[39m\n\u001b[0;32m     52\u001b[0m gtd_new \u001b[38;5;241m=\u001b[39m g_new\u001b[38;5;241m.\u001b[39mdot(d)\n",
      "File \u001b[1;32mc:\\Users\\Gavriil\\VS_projects\\KAN_spectroscopy\\.venv\\lib\\site-packages\\kan\\LBFGS.py:431\u001b[0m, in \u001b[0;36mLBFGS.step.<locals>.obj_func\u001b[1;34m(x, t, d)\u001b[0m\n\u001b[0;32m    430\u001b[0m \u001b[38;5;28;01mdef\u001b[39;00m \u001b[38;5;21mobj_func\u001b[39m(x, t, d):\n\u001b[1;32m--> 431\u001b[0m     \u001b[38;5;28;01mreturn\u001b[39;00m \u001b[38;5;28;43mself\u001b[39;49m\u001b[38;5;241;43m.\u001b[39;49m\u001b[43m_directional_evaluate\u001b[49m\u001b[43m(\u001b[49m\u001b[43mclosure\u001b[49m\u001b[43m,\u001b[49m\u001b[43m \u001b[49m\u001b[43mx\u001b[49m\u001b[43m,\u001b[49m\u001b[43m \u001b[49m\u001b[43mt\u001b[49m\u001b[43m,\u001b[49m\u001b[43m \u001b[49m\u001b[43md\u001b[49m\u001b[43m)\u001b[49m\n",
      "File \u001b[1;32mc:\\Users\\Gavriil\\VS_projects\\KAN_spectroscopy\\.venv\\lib\\site-packages\\kan\\LBFGS.py:283\u001b[0m, in \u001b[0;36mLBFGS._directional_evaluate\u001b[1;34m(self, closure, x, t, d)\u001b[0m\n\u001b[0;32m    281\u001b[0m \u001b[38;5;28;01mdef\u001b[39;00m \u001b[38;5;21m_directional_evaluate\u001b[39m(\u001b[38;5;28mself\u001b[39m, closure, x, t, d):\n\u001b[0;32m    282\u001b[0m     \u001b[38;5;28mself\u001b[39m\u001b[38;5;241m.\u001b[39m_add_grad(t, d)\n\u001b[1;32m--> 283\u001b[0m     loss \u001b[38;5;241m=\u001b[39m \u001b[38;5;28mfloat\u001b[39m(\u001b[43mclosure\u001b[49m\u001b[43m(\u001b[49m\u001b[43m)\u001b[49m)\n\u001b[0;32m    284\u001b[0m     flat_grad \u001b[38;5;241m=\u001b[39m \u001b[38;5;28mself\u001b[39m\u001b[38;5;241m.\u001b[39m_gather_flat_grad()\n\u001b[0;32m    285\u001b[0m     \u001b[38;5;28mself\u001b[39m\u001b[38;5;241m.\u001b[39m_set_param(x)\n",
      "File \u001b[1;32mc:\\Users\\Gavriil\\VS_projects\\KAN_spectroscopy\\.venv\\lib\\site-packages\\torch\\utils\\_contextlib.py:115\u001b[0m, in \u001b[0;36mcontext_decorator.<locals>.decorate_context\u001b[1;34m(*args, **kwargs)\u001b[0m\n\u001b[0;32m    112\u001b[0m \u001b[38;5;129m@functools\u001b[39m\u001b[38;5;241m.\u001b[39mwraps(func)\n\u001b[0;32m    113\u001b[0m \u001b[38;5;28;01mdef\u001b[39;00m \u001b[38;5;21mdecorate_context\u001b[39m(\u001b[38;5;241m*\u001b[39margs, \u001b[38;5;241m*\u001b[39m\u001b[38;5;241m*\u001b[39mkwargs):\n\u001b[0;32m    114\u001b[0m     \u001b[38;5;28;01mwith\u001b[39;00m ctx_factory():\n\u001b[1;32m--> 115\u001b[0m         \u001b[38;5;28;01mreturn\u001b[39;00m func(\u001b[38;5;241m*\u001b[39margs, \u001b[38;5;241m*\u001b[39m\u001b[38;5;241m*\u001b[39mkwargs)\n",
      "File \u001b[1;32mc:\\Users\\Gavriil\\VS_projects\\KAN_spectroscopy\\tools.py:232\u001b[0m, in \u001b[0;36mKAN_es.train_es.<locals>.closure\u001b[1;34m()\u001b[0m\n\u001b[0;32m    230\u001b[0m \u001b[38;5;28;01mglobal\u001b[39;00m train_loss, reg_\n\u001b[0;32m    231\u001b[0m optimizer\u001b[38;5;241m.\u001b[39mzero_grad()\n\u001b[1;32m--> 232\u001b[0m pred \u001b[38;5;241m=\u001b[39m \u001b[38;5;28;43mself\u001b[39;49m\u001b[38;5;241;43m.\u001b[39;49m\u001b[43mforward\u001b[49m\u001b[43m(\u001b[49m\u001b[43mdataset\u001b[49m\u001b[43m[\u001b[49m\u001b[38;5;124;43m'\u001b[39;49m\u001b[38;5;124;43mtrain_input\u001b[39;49m\u001b[38;5;124;43m'\u001b[39;49m\u001b[43m]\u001b[49m\u001b[43m[\u001b[49m\u001b[43mtrain_id\u001b[49m\u001b[43m]\u001b[49m\u001b[38;5;241;43m.\u001b[39;49m\u001b[43mto\u001b[49m\u001b[43m(\u001b[49m\u001b[43mdevice\u001b[49m\u001b[43m)\u001b[49m\u001b[43m)\u001b[49m\n\u001b[0;32m    233\u001b[0m \u001b[38;5;28;01mif\u001b[39;00m sglr_avoid \u001b[38;5;241m==\u001b[39m \u001b[38;5;28;01mTrue\u001b[39;00m:\n\u001b[0;32m    234\u001b[0m     id_ \u001b[38;5;241m=\u001b[39m torch\u001b[38;5;241m.\u001b[39mwhere(torch\u001b[38;5;241m.\u001b[39misnan(torch\u001b[38;5;241m.\u001b[39msum(pred, dim\u001b[38;5;241m=\u001b[39m\u001b[38;5;241m1\u001b[39m)) \u001b[38;5;241m==\u001b[39m \u001b[38;5;28;01mFalse\u001b[39;00m)[\u001b[38;5;241m0\u001b[39m]\n",
      "File \u001b[1;32mc:\\Users\\Gavriil\\VS_projects\\KAN_spectroscopy\\.venv\\lib\\site-packages\\kan\\KAN.py:311\u001b[0m, in \u001b[0;36mKAN.forward\u001b[1;34m(self, x)\u001b[0m\n\u001b[0;32m    307\u001b[0m \u001b[38;5;28mself\u001b[39m\u001b[38;5;241m.\u001b[39macts\u001b[38;5;241m.\u001b[39mappend(x)  \u001b[38;5;66;03m# acts shape: (batch, width[l])\u001b[39;00m\n\u001b[0;32m    309\u001b[0m \u001b[38;5;28;01mfor\u001b[39;00m l \u001b[38;5;129;01min\u001b[39;00m \u001b[38;5;28mrange\u001b[39m(\u001b[38;5;28mself\u001b[39m\u001b[38;5;241m.\u001b[39mdepth):\n\u001b[1;32m--> 311\u001b[0m     x_numerical, preacts, postacts_numerical, postspline \u001b[38;5;241m=\u001b[39m \u001b[38;5;28;43mself\u001b[39;49m\u001b[38;5;241;43m.\u001b[39;49m\u001b[43mact_fun\u001b[49m\u001b[43m[\u001b[49m\u001b[43ml\u001b[49m\u001b[43m]\u001b[49m\u001b[43m(\u001b[49m\u001b[43mx\u001b[49m\u001b[43m)\u001b[49m\n\u001b[0;32m    313\u001b[0m     \u001b[38;5;28;01mif\u001b[39;00m \u001b[38;5;28mself\u001b[39m\u001b[38;5;241m.\u001b[39msymbolic_enabled \u001b[38;5;241m==\u001b[39m \u001b[38;5;28;01mTrue\u001b[39;00m:\n\u001b[0;32m    314\u001b[0m         x_symbolic, postacts_symbolic \u001b[38;5;241m=\u001b[39m \u001b[38;5;28mself\u001b[39m\u001b[38;5;241m.\u001b[39msymbolic_fun[l](x)\n",
      "File \u001b[1;32mc:\\Users\\Gavriil\\VS_projects\\KAN_spectroscopy\\.venv\\lib\\site-packages\\torch\\nn\\modules\\module.py:1532\u001b[0m, in \u001b[0;36mModule._wrapped_call_impl\u001b[1;34m(self, *args, **kwargs)\u001b[0m\n\u001b[0;32m   1530\u001b[0m     \u001b[38;5;28;01mreturn\u001b[39;00m \u001b[38;5;28mself\u001b[39m\u001b[38;5;241m.\u001b[39m_compiled_call_impl(\u001b[38;5;241m*\u001b[39margs, \u001b[38;5;241m*\u001b[39m\u001b[38;5;241m*\u001b[39mkwargs)  \u001b[38;5;66;03m# type: ignore[misc]\u001b[39;00m\n\u001b[0;32m   1531\u001b[0m \u001b[38;5;28;01melse\u001b[39;00m:\n\u001b[1;32m-> 1532\u001b[0m     \u001b[38;5;28;01mreturn\u001b[39;00m \u001b[38;5;28mself\u001b[39m\u001b[38;5;241m.\u001b[39m_call_impl(\u001b[38;5;241m*\u001b[39margs, \u001b[38;5;241m*\u001b[39m\u001b[38;5;241m*\u001b[39mkwargs)\n",
      "File \u001b[1;32mc:\\Users\\Gavriil\\VS_projects\\KAN_spectroscopy\\.venv\\lib\\site-packages\\torch\\nn\\modules\\module.py:1541\u001b[0m, in \u001b[0;36mModule._call_impl\u001b[1;34m(self, *args, **kwargs)\u001b[0m\n\u001b[0;32m   1536\u001b[0m \u001b[38;5;66;03m# If we don't have any hooks, we want to skip the rest of the logic in\u001b[39;00m\n\u001b[0;32m   1537\u001b[0m \u001b[38;5;66;03m# this function, and just call forward.\u001b[39;00m\n\u001b[0;32m   1538\u001b[0m \u001b[38;5;28;01mif\u001b[39;00m \u001b[38;5;129;01mnot\u001b[39;00m (\u001b[38;5;28mself\u001b[39m\u001b[38;5;241m.\u001b[39m_backward_hooks \u001b[38;5;129;01mor\u001b[39;00m \u001b[38;5;28mself\u001b[39m\u001b[38;5;241m.\u001b[39m_backward_pre_hooks \u001b[38;5;129;01mor\u001b[39;00m \u001b[38;5;28mself\u001b[39m\u001b[38;5;241m.\u001b[39m_forward_hooks \u001b[38;5;129;01mor\u001b[39;00m \u001b[38;5;28mself\u001b[39m\u001b[38;5;241m.\u001b[39m_forward_pre_hooks\n\u001b[0;32m   1539\u001b[0m         \u001b[38;5;129;01mor\u001b[39;00m _global_backward_pre_hooks \u001b[38;5;129;01mor\u001b[39;00m _global_backward_hooks\n\u001b[0;32m   1540\u001b[0m         \u001b[38;5;129;01mor\u001b[39;00m _global_forward_hooks \u001b[38;5;129;01mor\u001b[39;00m _global_forward_pre_hooks):\n\u001b[1;32m-> 1541\u001b[0m     \u001b[38;5;28;01mreturn\u001b[39;00m forward_call(\u001b[38;5;241m*\u001b[39margs, \u001b[38;5;241m*\u001b[39m\u001b[38;5;241m*\u001b[39mkwargs)\n\u001b[0;32m   1543\u001b[0m \u001b[38;5;28;01mtry\u001b[39;00m:\n\u001b[0;32m   1544\u001b[0m     result \u001b[38;5;241m=\u001b[39m \u001b[38;5;28;01mNone\u001b[39;00m\n",
      "File \u001b[1;32mc:\\Users\\Gavriil\\VS_projects\\KAN_spectroscopy\\.venv\\lib\\site-packages\\kan\\KANLayer.py:173\u001b[0m, in \u001b[0;36mKANLayer.forward\u001b[1;34m(self, x)\u001b[0m\n\u001b[0;32m    171\u001b[0m preacts \u001b[38;5;241m=\u001b[39m x\u001b[38;5;241m.\u001b[39mpermute(\u001b[38;5;241m1\u001b[39m, \u001b[38;5;241m0\u001b[39m)\u001b[38;5;241m.\u001b[39mclone()\u001b[38;5;241m.\u001b[39mreshape(batch, \u001b[38;5;28mself\u001b[39m\u001b[38;5;241m.\u001b[39mout_dim, \u001b[38;5;28mself\u001b[39m\u001b[38;5;241m.\u001b[39min_dim)\n\u001b[0;32m    172\u001b[0m base \u001b[38;5;241m=\u001b[39m \u001b[38;5;28mself\u001b[39m\u001b[38;5;241m.\u001b[39mbase_fun(x)\u001b[38;5;241m.\u001b[39mpermute(\u001b[38;5;241m1\u001b[39m, \u001b[38;5;241m0\u001b[39m)  \u001b[38;5;66;03m# shape (batch, size)\u001b[39;00m\n\u001b[1;32m--> 173\u001b[0m y \u001b[38;5;241m=\u001b[39m \u001b[43mcoef2curve\u001b[49m\u001b[43m(\u001b[49m\u001b[43mx_eval\u001b[49m\u001b[38;5;241;43m=\u001b[39;49m\u001b[43mx\u001b[49m\u001b[43m,\u001b[49m\u001b[43m \u001b[49m\u001b[43mgrid\u001b[49m\u001b[38;5;241;43m=\u001b[39;49m\u001b[38;5;28;43mself\u001b[39;49m\u001b[38;5;241;43m.\u001b[39;49m\u001b[43mgrid\u001b[49m\u001b[43m[\u001b[49m\u001b[38;5;28;43mself\u001b[39;49m\u001b[38;5;241;43m.\u001b[39;49m\u001b[43mweight_sharing\u001b[49m\u001b[43m]\u001b[49m\u001b[43m,\u001b[49m\u001b[43m \u001b[49m\u001b[43mcoef\u001b[49m\u001b[38;5;241;43m=\u001b[39;49m\u001b[38;5;28;43mself\u001b[39;49m\u001b[38;5;241;43m.\u001b[39;49m\u001b[43mcoef\u001b[49m\u001b[43m[\u001b[49m\u001b[38;5;28;43mself\u001b[39;49m\u001b[38;5;241;43m.\u001b[39;49m\u001b[43mweight_sharing\u001b[49m\u001b[43m]\u001b[49m\u001b[43m,\u001b[49m\u001b[43m \u001b[49m\u001b[43mk\u001b[49m\u001b[38;5;241;43m=\u001b[39;49m\u001b[38;5;28;43mself\u001b[39;49m\u001b[38;5;241;43m.\u001b[39;49m\u001b[43mk\u001b[49m\u001b[43m,\u001b[49m\u001b[43m \u001b[49m\u001b[43mdevice\u001b[49m\u001b[38;5;241;43m=\u001b[39;49m\u001b[38;5;28;43mself\u001b[39;49m\u001b[38;5;241;43m.\u001b[39;49m\u001b[43mdevice\u001b[49m\u001b[43m)\u001b[49m  \u001b[38;5;66;03m# shape (size, batch)\u001b[39;00m\n\u001b[0;32m    174\u001b[0m y \u001b[38;5;241m=\u001b[39m y\u001b[38;5;241m.\u001b[39mpermute(\u001b[38;5;241m1\u001b[39m, \u001b[38;5;241m0\u001b[39m)  \u001b[38;5;66;03m# shape (batch, size)\u001b[39;00m\n\u001b[0;32m    175\u001b[0m postspline \u001b[38;5;241m=\u001b[39m y\u001b[38;5;241m.\u001b[39mclone()\u001b[38;5;241m.\u001b[39mreshape(batch, \u001b[38;5;28mself\u001b[39m\u001b[38;5;241m.\u001b[39mout_dim, \u001b[38;5;28mself\u001b[39m\u001b[38;5;241m.\u001b[39min_dim)\n",
      "File \u001b[1;32mc:\\Users\\Gavriil\\VS_projects\\KAN_spectroscopy\\.venv\\lib\\site-packages\\kan\\spline.py:102\u001b[0m, in \u001b[0;36mcoef2curve\u001b[1;34m(x_eval, grid, coef, k, device)\u001b[0m\n\u001b[0;32m    100\u001b[0m \u001b[38;5;28;01mif\u001b[39;00m coef\u001b[38;5;241m.\u001b[39mdtype \u001b[38;5;241m!=\u001b[39m x_eval\u001b[38;5;241m.\u001b[39mdtype:\n\u001b[0;32m    101\u001b[0m     coef \u001b[38;5;241m=\u001b[39m coef\u001b[38;5;241m.\u001b[39mto(x_eval\u001b[38;5;241m.\u001b[39mdtype)\n\u001b[1;32m--> 102\u001b[0m y_eval \u001b[38;5;241m=\u001b[39m torch\u001b[38;5;241m.\u001b[39meinsum(\u001b[38;5;124m'\u001b[39m\u001b[38;5;124mij,ijk->ik\u001b[39m\u001b[38;5;124m'\u001b[39m, coef, \u001b[43mB_batch\u001b[49m\u001b[43m(\u001b[49m\u001b[43mx_eval\u001b[49m\u001b[43m,\u001b[49m\u001b[43m \u001b[49m\u001b[43mgrid\u001b[49m\u001b[43m,\u001b[49m\u001b[43m \u001b[49m\u001b[43mk\u001b[49m\u001b[43m,\u001b[49m\u001b[43m \u001b[49m\u001b[43mdevice\u001b[49m\u001b[38;5;241;43m=\u001b[39;49m\u001b[43mdevice\u001b[49m\u001b[43m)\u001b[49m)\n\u001b[0;32m    103\u001b[0m \u001b[38;5;28;01mreturn\u001b[39;00m y_eval\n",
      "File \u001b[1;32mc:\\Users\\Gavriil\\VS_projects\\KAN_spectroscopy\\.venv\\lib\\site-packages\\kan\\spline.py:60\u001b[0m, in \u001b[0;36mB_batch\u001b[1;34m(x, grid, k, extend, device)\u001b[0m\n\u001b[0;32m     58\u001b[0m \u001b[38;5;28;01melse\u001b[39;00m:\n\u001b[0;32m     59\u001b[0m     B_km1 \u001b[38;5;241m=\u001b[39m B_batch(x[:, \u001b[38;5;241m0\u001b[39m], grid\u001b[38;5;241m=\u001b[39mgrid[:, :, \u001b[38;5;241m0\u001b[39m], k\u001b[38;5;241m=\u001b[39mk \u001b[38;5;241m-\u001b[39m \u001b[38;5;241m1\u001b[39m, extend\u001b[38;5;241m=\u001b[39m\u001b[38;5;28;01mFalse\u001b[39;00m, device\u001b[38;5;241m=\u001b[39mdevice)\n\u001b[1;32m---> 60\u001b[0m     value \u001b[38;5;241m=\u001b[39m (x \u001b[38;5;241m-\u001b[39m grid[:, :\u001b[38;5;241m-\u001b[39m(k \u001b[38;5;241m+\u001b[39m \u001b[38;5;241m1\u001b[39m)]) \u001b[38;5;241m/\u001b[39m (grid[:, k:\u001b[38;5;241m-\u001b[39m\u001b[38;5;241m1\u001b[39m] \u001b[38;5;241m-\u001b[39m grid[:, :\u001b[38;5;241m-\u001b[39m(k \u001b[38;5;241m+\u001b[39m \u001b[38;5;241m1\u001b[39m)]) \u001b[38;5;241m*\u001b[39m B_km1[:, :\u001b[38;5;241m-\u001b[39m\u001b[38;5;241m1\u001b[39m] \u001b[38;5;241m+\u001b[39m \u001b[43m(\u001b[49m\u001b[43mgrid\u001b[49m\u001b[43m[\u001b[49m\u001b[43m:\u001b[49m\u001b[43m,\u001b[49m\u001b[43m \u001b[49m\u001b[43mk\u001b[49m\u001b[43m \u001b[49m\u001b[38;5;241;43m+\u001b[39;49m\u001b[43m \u001b[49m\u001b[38;5;241;43m1\u001b[39;49m\u001b[43m:\u001b[49m\u001b[43m]\u001b[49m\u001b[43m \u001b[49m\u001b[38;5;241;43m-\u001b[39;49m\u001b[43m \u001b[49m\u001b[43mx\u001b[49m\u001b[43m)\u001b[49m\u001b[43m \u001b[49m\u001b[38;5;241;43m/\u001b[39;49m\u001b[43m \u001b[49m\u001b[43m(\u001b[49m\u001b[43mgrid\u001b[49m\u001b[43m[\u001b[49m\u001b[43m:\u001b[49m\u001b[43m,\u001b[49m\u001b[43m \u001b[49m\u001b[43mk\u001b[49m\u001b[43m \u001b[49m\u001b[38;5;241;43m+\u001b[39;49m\u001b[43m \u001b[49m\u001b[38;5;241;43m1\u001b[39;49m\u001b[43m:\u001b[49m\u001b[43m]\u001b[49m\u001b[43m \u001b[49m\u001b[38;5;241;43m-\u001b[39;49m\u001b[43m \u001b[49m\u001b[43mgrid\u001b[49m\u001b[43m[\u001b[49m\u001b[43m:\u001b[49m\u001b[43m,\u001b[49m\u001b[43m \u001b[49m\u001b[38;5;241;43m1\u001b[39;49m\u001b[43m:\u001b[49m\u001b[43m(\u001b[49m\u001b[38;5;241;43m-\u001b[39;49m\u001b[43mk\u001b[49m\u001b[43m)\u001b[49m\u001b[43m]\u001b[49m\u001b[43m)\u001b[49m \u001b[38;5;241m*\u001b[39m B_km1[:, \u001b[38;5;241m1\u001b[39m:]\n\u001b[0;32m     61\u001b[0m \u001b[38;5;28;01mreturn\u001b[39;00m value\n",
      "\u001b[1;31mKeyboardInterrupt\u001b[0m: "
     ]
    }
   ],
   "source": [
    "full_df = multi_exp(l_algos_names=l_algos_names,\n",
    "                    l_algos=l_algos,\n",
    "                    mult_X_Y=mult_X_Y,\n",
    "                    l_kwargs=l_kwargs,\n",
    "                    l_metrics_names=l_metrics_names,\n",
    "                    num_iter=num_iter)"
   ]
  },
  {
   "cell_type": "code",
   "execution_count": 17,
   "metadata": {},
   "outputs": [
    {
     "data": {
      "text/html": [
       "<div>\n",
       "<style scoped>\n",
       "    .dataframe tbody tr th:only-of-type {\n",
       "        vertical-align: middle;\n",
       "    }\n",
       "\n",
       "    .dataframe tbody tr th {\n",
       "        vertical-align: top;\n",
       "    }\n",
       "\n",
       "    .dataframe thead th {\n",
       "        text-align: right;\n",
       "    }\n",
       "</style>\n",
       "<table border=\"1\" class=\"dataframe\">\n",
       "  <thead>\n",
       "    <tr style=\"text-align: right;\">\n",
       "      <th></th>\n",
       "      <th>alg_name</th>\n",
       "      <th>iter</th>\n",
       "      <th>rmse</th>\n",
       "      <th>r2</th>\n",
       "      <th>mae</th>\n",
       "    </tr>\n",
       "  </thead>\n",
       "  <tbody>\n",
       "    <tr>\n",
       "      <th>0</th>\n",
       "      <td>500_MLP</td>\n",
       "      <td>1</td>\n",
       "      <td>1.273147</td>\n",
       "      <td>0.428935</td>\n",
       "      <td>0.895350</td>\n",
       "    </tr>\n",
       "    <tr>\n",
       "      <th>1</th>\n",
       "      <td>500_MLP</td>\n",
       "      <td>2</td>\n",
       "      <td>1.597288</td>\n",
       "      <td>0.359530</td>\n",
       "      <td>0.973099</td>\n",
       "    </tr>\n",
       "    <tr>\n",
       "      <th>2</th>\n",
       "      <td>500_MLP</td>\n",
       "      <td>3</td>\n",
       "      <td>1.484082</td>\n",
       "      <td>0.406126</td>\n",
       "      <td>0.981679</td>\n",
       "    </tr>\n",
       "    <tr>\n",
       "      <th>3</th>\n",
       "      <td>500_MLP</td>\n",
       "      <td>4</td>\n",
       "      <td>1.506709</td>\n",
       "      <td>0.420534</td>\n",
       "      <td>0.980261</td>\n",
       "    </tr>\n",
       "    <tr>\n",
       "      <th>4</th>\n",
       "      <td>500_MLP</td>\n",
       "      <td>5</td>\n",
       "      <td>1.793758</td>\n",
       "      <td>0.251064</td>\n",
       "      <td>1.076318</td>\n",
       "    </tr>\n",
       "    <tr>\n",
       "      <th>...</th>\n",
       "      <td>...</td>\n",
       "      <td>...</td>\n",
       "      <td>...</td>\n",
       "      <td>...</td>\n",
       "      <td>...</td>\n",
       "    </tr>\n",
       "    <tr>\n",
       "      <th>195</th>\n",
       "      <td>5_MLP</td>\n",
       "      <td>96</td>\n",
       "      <td>0.236834</td>\n",
       "      <td>0.904726</td>\n",
       "      <td>0.397019</td>\n",
       "    </tr>\n",
       "    <tr>\n",
       "      <th>196</th>\n",
       "      <td>5_MLP</td>\n",
       "      <td>97</td>\n",
       "      <td>0.206943</td>\n",
       "      <td>0.920247</td>\n",
       "      <td>0.361163</td>\n",
       "    </tr>\n",
       "    <tr>\n",
       "      <th>197</th>\n",
       "      <td>5_MLP</td>\n",
       "      <td>98</td>\n",
       "      <td>0.196596</td>\n",
       "      <td>0.919887</td>\n",
       "      <td>0.352885</td>\n",
       "    </tr>\n",
       "    <tr>\n",
       "      <th>198</th>\n",
       "      <td>5_MLP</td>\n",
       "      <td>99</td>\n",
       "      <td>0.210253</td>\n",
       "      <td>0.919632</td>\n",
       "      <td>0.356530</td>\n",
       "    </tr>\n",
       "    <tr>\n",
       "      <th>199</th>\n",
       "      <td>5_MLP</td>\n",
       "      <td>100</td>\n",
       "      <td>0.187264</td>\n",
       "      <td>0.927622</td>\n",
       "      <td>0.342396</td>\n",
       "    </tr>\n",
       "  </tbody>\n",
       "</table>\n",
       "<p>200 rows × 5 columns</p>\n",
       "</div>"
      ],
      "text/plain": [
       "    alg_name  iter      rmse        r2       mae\n",
       "0    500_MLP     1  1.273147  0.428935  0.895350\n",
       "1    500_MLP     2  1.597288  0.359530  0.973099\n",
       "2    500_MLP     3  1.484082  0.406126  0.981679\n",
       "3    500_MLP     4  1.506709  0.420534  0.980261\n",
       "4    500_MLP     5  1.793758  0.251064  1.076318\n",
       "..       ...   ...       ...       ...       ...\n",
       "195    5_MLP    96  0.236834  0.904726  0.397019\n",
       "196    5_MLP    97  0.206943  0.920247  0.361163\n",
       "197    5_MLP    98  0.196596  0.919887  0.352885\n",
       "198    5_MLP    99  0.210253  0.919632  0.356530\n",
       "199    5_MLP   100  0.187264  0.927622  0.342396\n",
       "\n",
       "[200 rows x 5 columns]"
      ]
     },
     "execution_count": 17,
     "metadata": {},
     "output_type": "execute_result"
    }
   ],
   "source": [
    "full_df"
   ]
  },
  {
   "cell_type": "code",
   "execution_count": 18,
   "metadata": {},
   "outputs": [],
   "source": [
    "full_df.to_excel(f'full_metrics_{PREDICT_IONS}_hn.xlsx')\n",
    "#pd.read_excel('full_metrics.xlsx').drop('Unnamed: 0', axis=1)"
   ]
  },
  {
   "cell_type": "code",
   "execution_count": 19,
   "metadata": {},
   "outputs": [
    {
     "data": {
      "text/html": [
       "<div>\n",
       "<style scoped>\n",
       "    .dataframe tbody tr th:only-of-type {\n",
       "        vertical-align: middle;\n",
       "    }\n",
       "\n",
       "    .dataframe tbody tr th {\n",
       "        vertical-align: top;\n",
       "    }\n",
       "\n",
       "    .dataframe thead tr th {\n",
       "        text-align: left;\n",
       "    }\n",
       "\n",
       "    .dataframe thead tr:last-of-type th {\n",
       "        text-align: right;\n",
       "    }\n",
       "</style>\n",
       "<table border=\"1\" class=\"dataframe\">\n",
       "  <thead>\n",
       "    <tr>\n",
       "      <th></th>\n",
       "      <th colspan=\"2\" halign=\"left\">rmse</th>\n",
       "      <th colspan=\"2\" halign=\"left\">r2</th>\n",
       "      <th colspan=\"2\" halign=\"left\">mae</th>\n",
       "    </tr>\n",
       "    <tr>\n",
       "      <th></th>\n",
       "      <th>mean</th>\n",
       "      <th>std</th>\n",
       "      <th>mean</th>\n",
       "      <th>std</th>\n",
       "      <th>mean</th>\n",
       "      <th>std</th>\n",
       "    </tr>\n",
       "    <tr>\n",
       "      <th>alg_name</th>\n",
       "      <th></th>\n",
       "      <th></th>\n",
       "      <th></th>\n",
       "      <th></th>\n",
       "      <th></th>\n",
       "      <th></th>\n",
       "    </tr>\n",
       "  </thead>\n",
       "  <tbody>\n",
       "    <tr>\n",
       "      <th>500_MLP</th>\n",
       "      <td>1.548810</td>\n",
       "      <td>0.273178</td>\n",
       "      <td>0.376348</td>\n",
       "      <td>0.109748</td>\n",
       "      <td>0.984847</td>\n",
       "      <td>0.084659</td>\n",
       "    </tr>\n",
       "    <tr>\n",
       "      <th>5_MLP</th>\n",
       "      <td>0.202864</td>\n",
       "      <td>0.029077</td>\n",
       "      <td>0.918372</td>\n",
       "      <td>0.011374</td>\n",
       "      <td>0.359317</td>\n",
       "      <td>0.027571</td>\n",
       "    </tr>\n",
       "  </tbody>\n",
       "</table>\n",
       "</div>"
      ],
      "text/plain": [
       "              rmse                  r2                 mae          \n",
       "              mean       std      mean       std      mean       std\n",
       "alg_name                                                            \n",
       "500_MLP   1.548810  0.273178  0.376348  0.109748  0.984847  0.084659\n",
       "5_MLP     0.202864  0.029077  0.918372  0.011374  0.359317  0.027571"
      ]
     },
     "execution_count": 19,
     "metadata": {},
     "output_type": "execute_result"
    }
   ],
   "source": [
    "aggr_df = full_df.groupby(['alg_name']).agg([\"mean\", \"std\"]).drop(['iter'], axis=1)\n",
    "aggr_df.to_excel(f'aggr_metrics_{PREDICT_IONS}_hn.xlsx')\n",
    "aggr_df"
   ]
  },
  {
   "cell_type": "code",
   "execution_count": null,
   "metadata": {},
   "outputs": [],
   "source": []
  }
 ],
 "metadata": {
  "kernelspec": {
   "display_name": ".venv",
   "language": "python",
   "name": "python3"
  },
  "language_info": {
   "codemirror_mode": {
    "name": "ipython",
    "version": 3
   },
   "file_extension": ".py",
   "mimetype": "text/x-python",
   "name": "python",
   "nbconvert_exporter": "python",
   "pygments_lexer": "ipython3",
   "version": "3.9.7"
  }
 },
 "nbformat": 4,
 "nbformat_minor": 2
}
